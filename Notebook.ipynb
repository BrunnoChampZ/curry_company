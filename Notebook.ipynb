{
 "cells": [
  {
   "cell_type": "markdown",
   "metadata": {},
   "source": [
    "# 0.0. IMPORTS"
   ]
  },
  {
   "cell_type": "code",
   "execution_count": 3,
   "metadata": {},
   "outputs": [],
   "source": [
    "import pandas as pd\n",
    "import numpy as np\n",
    "import streamlit as st\n",
    "import matplotlib.pyplot as plt\n",
    "import plotly.express as px\n",
    "import seaborn as sns\n",
    "import haversine\n",
    "\n",
    "import inflection"
   ]
  },
  {
   "cell_type": "markdown",
   "metadata": {},
   "source": [
    "## 0.1. Helper Variables"
   ]
  },
  {
   "cell_type": "code",
   "execution_count": 4,
   "metadata": {},
   "outputs": [],
   "source": [
    "RAW_DATA_PATH = f\"./dataset/raw/train.csv\""
   ]
  },
  {
   "cell_type": "markdown",
   "metadata": {},
   "source": [
    "## 0.2. Helper Functions"
   ]
  },
  {
   "cell_type": "code",
   "execution_count": 5,
   "metadata": {},
   "outputs": [],
   "source": [
    "def show_dataframe_dimensions(dataframe):\n",
    "    print(f\"Number of Rows: {dataframe.shape[0]}\")\n",
    "    print(f\"Number of Columns: {dataframe.shape[1]}\")\n",
    "    \n",
    "    return None"
   ]
  },
  {
   "cell_type": "code",
   "execution_count": 6,
   "metadata": {},
   "outputs": [],
   "source": [
    "def get_numerical_attributes(dataframe):\n",
    "    return dataframe.select_dtypes(include=['int64', 'float64'])"
   ]
  },
  {
   "cell_type": "code",
   "execution_count": 7,
   "metadata": {},
   "outputs": [],
   "source": [
    "def get_first_order_statistics(dataframe):\n",
    "    # Central Tendency Metrics\n",
    "    mean = pd.DataFrame(dataframe.apply(np.mean)).T\n",
    "    median = pd.DataFrame(dataframe.apply(np.median)).T\n",
    "\n",
    "    # Dispersion Metrics\n",
    "    min_ = pd.DataFrame(dataframe.apply(min)).T\n",
    "    max_ = pd.DataFrame(dataframe.apply(max)).T\n",
    "    range_ = pd.DataFrame(dataframe.apply(lambda x: x.max() - x.min())).T\n",
    "    std = pd.DataFrame(dataframe.apply(np.std)).T\n",
    "    skew = pd.DataFrame(dataframe.apply(lambda x: x.skew())).T\n",
    "    kurtosis = pd.DataFrame(dataframe.apply(lambda x: x.kurtosis())).T\n",
    "\n",
    "    # Metrics Concatenation\n",
    "    m = pd.concat([min_, max_, range_, mean, median, std, skew, kurtosis]).T.reset_index()\n",
    "    m.columns = ['attributes', 'min', 'max', 'range', 'mean', 'median', 'std', 'skew', 'kurtosis']\n",
    "    \n",
    "    return m"
   ]
  },
  {
   "cell_type": "code",
   "execution_count": 8,
   "metadata": {},
   "outputs": [],
   "source": [
    "def rename_columns(dataframe):\n",
    "    df = dataframe.copy()\n",
    "\n",
    "    title = lambda x: inflection.titleize(x)\n",
    "\n",
    "    snakecase = lambda x: inflection.underscore(x)\n",
    "\n",
    "    spaces = lambda x: x.replace(\" \", \"\")\n",
    "\n",
    "    cols_old = list(df.columns)\n",
    "\n",
    "    cols_old = list(map(title, cols_old))\n",
    "\n",
    "    cols_old = list(map(spaces, cols_old))\n",
    "\n",
    "    cols_new = list(map(snakecase, cols_old))\n",
    "\n",
    "    df.columns = cols_new\n",
    "\n",
    "    return df"
   ]
  },
  {
   "cell_type": "code",
   "execution_count": 9,
   "metadata": {},
   "outputs": [],
   "source": [
    "def adjust_columns_order(dataframe):\n",
    "    df = dataframe.copy()\n",
    "\n",
    "    new_cols_order = [\n",
    "        \n",
    "        \"id\",\n",
    "        \"delivery_person\",\n",
    "        \"delivery_person_age\",\n",
    "        \"delivery_person_ratings\",\n",
    "        \"restaurant_latitude\",\n",
    "        \"restaurant_longitude\",\n",
    "        \"delivery_location_latitude\",\n",
    "        \"delivery_location_longitude\",\n",
    "        \"distance(km)\",\n",
    "        \"order_date\",\n",
    "        \"time_orderd\",\n",
    "        \"time_order_picked\",\n",
    "        \"week_of_year\",\n",
    "        \"weatherconditions\",\n",
    "        \"road_traffic_density\",\n",
    "        \"vehicle_condition\",\n",
    "        \"type_of_order\",\n",
    "        \"type_of_vehicle\",\n",
    "        \"multiple_deliveries\",\n",
    "        \"festival\",\n",
    "        \"city\",\n",
    "        \"time_taken(min)\",\n",
    "    ]\n",
    "\n",
    "    return df.loc[:, new_cols_order]"
   ]
  },
  {
   "cell_type": "code",
   "execution_count": 10,
   "metadata": {},
   "outputs": [],
   "source": [
    "def change_types(dataframe):\n",
    "    df = dataframe.copy()\n",
    "\n",
    "    df = df[df[\"delivery_person_age\"] != \"NaN \"]\n",
    "    df = df[df[\"delivery_person_ratings\"] != \"NaN \"]\n",
    "    df = df[df[\"time_orderd\"] != \"NaN \"]\n",
    "    df = df[df[\"road_traffic_density\"] != \"NaN \"]\n",
    "    df = df[df[\"multiple_deliveries\"] != \"NaN \"]\n",
    "    df = df[df[\"festival\"] != \"NaN \"]\n",
    "    df = df[df[\"city\"] != \"NaN \"]\n",
    "\n",
    "    df['delivery_person_age'] = pd.to_numeric(df['delivery_person_age'], errors='coerce')\n",
    "    df['delivery_person_ratings'] = df['delivery_person_ratings'].astype(float)\n",
    "    df['order_date'] = pd.to_datetime(df['order_date'], format='%d-%m-%Y')\n",
    "    df['time_taken(min)'] = df['time_taken(min)'].apply(lambda x: x.split(\"(min)\")[1]).astype(int)\n",
    "\n",
    "    return df"
   ]
  },
  {
   "cell_type": "code",
   "execution_count": 11,
   "metadata": {},
   "outputs": [],
   "source": [
    "def distance(dataframe):\n",
    "    df = dataframe.copy()\n",
    "\n",
    "    df[\"distance(km)\"] = df.apply(lambda x: haversine.haversine((x[\"restaurant_latitude\"], x[\"restaurant_longitude\"]), (x[\"delivery_location_latitude\"], x[\"delivery_location_longitude\"])), axis=1)\n",
    "\n",
    "    return df"
   ]
  },
  {
   "cell_type": "code",
   "execution_count": 12,
   "metadata": {},
   "outputs": [],
   "source": [
    "def week_of_year(dataframe):\n",
    "    df = dataframe.copy()\n",
    "\n",
    "    df['week_of_year'] = df['order_date'].dt.strftime('%U')\n",
    "\n",
    "    return df"
   ]
  },
  {
   "cell_type": "code",
   "execution_count": 13,
   "metadata": {},
   "outputs": [],
   "source": [
    "def process_data(file_path):\n",
    "    df = pd.read_csv(file_path)\n",
    "\n",
    "    df = df.dropna()\n",
    "\n",
    "    df = rename_columns(df)\n",
    "\n",
    "    df = change_types(df)\n",
    "\n",
    "    df = df.apply(lambda x: x.str.strip() if x.dtype == \"object\" else x)\n",
    "\n",
    "    df = distance(df)\n",
    "\n",
    "    df = week_of_year(df)\n",
    "\n",
    "    df = df.drop_duplicates()\n",
    "\n",
    "    df = adjust_columns_order(df)\n",
    "\n",
    "    df.to_csv(\"./dataset/processed/data.csv\", index=False)\n",
    "\n",
    "    return df"
   ]
  },
  {
   "cell_type": "markdown",
   "metadata": {},
   "source": [
    "## 0.3. Helper Configurations"
   ]
  },
  {
   "cell_type": "code",
   "execution_count": 14,
   "metadata": {},
   "outputs": [],
   "source": [
    "pd.set_option(\"display.max_rows\", 500)\n",
    "pd.set_option(\"display.max_columns\", 500)"
   ]
  },
  {
   "cell_type": "markdown",
   "metadata": {},
   "source": [
    "## 0.4. Load Data"
   ]
  },
  {
   "cell_type": "code",
   "execution_count": 15,
   "metadata": {},
   "outputs": [
    {
     "data": {
      "text/html": [
       "<div>\n",
       "<style scoped>\n",
       "    .dataframe tbody tr th:only-of-type {\n",
       "        vertical-align: middle;\n",
       "    }\n",
       "\n",
       "    .dataframe tbody tr th {\n",
       "        vertical-align: top;\n",
       "    }\n",
       "\n",
       "    .dataframe thead th {\n",
       "        text-align: right;\n",
       "    }\n",
       "</style>\n",
       "<table border=\"1\" class=\"dataframe\">\n",
       "  <thead>\n",
       "    <tr style=\"text-align: right;\">\n",
       "      <th></th>\n",
       "      <th>ID</th>\n",
       "      <th>Delivery_person_ID</th>\n",
       "      <th>Delivery_person_Age</th>\n",
       "      <th>Delivery_person_Ratings</th>\n",
       "      <th>Restaurant_latitude</th>\n",
       "      <th>Restaurant_longitude</th>\n",
       "      <th>Delivery_location_latitude</th>\n",
       "      <th>Delivery_location_longitude</th>\n",
       "      <th>Order_Date</th>\n",
       "      <th>Time_Orderd</th>\n",
       "      <th>Time_Order_picked</th>\n",
       "      <th>Weatherconditions</th>\n",
       "      <th>Road_traffic_density</th>\n",
       "      <th>Vehicle_condition</th>\n",
       "      <th>Type_of_order</th>\n",
       "      <th>Type_of_vehicle</th>\n",
       "      <th>multiple_deliveries</th>\n",
       "      <th>Festival</th>\n",
       "      <th>City</th>\n",
       "      <th>Time_taken(min)</th>\n",
       "    </tr>\n",
       "  </thead>\n",
       "  <tbody>\n",
       "    <tr>\n",
       "      <th>0</th>\n",
       "      <td>0x4607</td>\n",
       "      <td>INDORES13DEL02</td>\n",
       "      <td>37</td>\n",
       "      <td>4.9</td>\n",
       "      <td>22.745049</td>\n",
       "      <td>75.892471</td>\n",
       "      <td>22.765049</td>\n",
       "      <td>75.912471</td>\n",
       "      <td>19-03-2022</td>\n",
       "      <td>11:30:00</td>\n",
       "      <td>11:45:00</td>\n",
       "      <td>conditions Sunny</td>\n",
       "      <td>High</td>\n",
       "      <td>2</td>\n",
       "      <td>Snack</td>\n",
       "      <td>motorcycle</td>\n",
       "      <td>0</td>\n",
       "      <td>No</td>\n",
       "      <td>Urban</td>\n",
       "      <td>(min) 24</td>\n",
       "    </tr>\n",
       "    <tr>\n",
       "      <th>1</th>\n",
       "      <td>0xb379</td>\n",
       "      <td>BANGRES18DEL02</td>\n",
       "      <td>34</td>\n",
       "      <td>4.5</td>\n",
       "      <td>12.913041</td>\n",
       "      <td>77.683237</td>\n",
       "      <td>13.043041</td>\n",
       "      <td>77.813237</td>\n",
       "      <td>25-03-2022</td>\n",
       "      <td>19:45:00</td>\n",
       "      <td>19:50:00</td>\n",
       "      <td>conditions Stormy</td>\n",
       "      <td>Jam</td>\n",
       "      <td>2</td>\n",
       "      <td>Snack</td>\n",
       "      <td>scooter</td>\n",
       "      <td>1</td>\n",
       "      <td>No</td>\n",
       "      <td>Metropolitian</td>\n",
       "      <td>(min) 33</td>\n",
       "    </tr>\n",
       "    <tr>\n",
       "      <th>2</th>\n",
       "      <td>0x5d6d</td>\n",
       "      <td>BANGRES19DEL01</td>\n",
       "      <td>23</td>\n",
       "      <td>4.4</td>\n",
       "      <td>12.914264</td>\n",
       "      <td>77.678400</td>\n",
       "      <td>12.924264</td>\n",
       "      <td>77.688400</td>\n",
       "      <td>19-03-2022</td>\n",
       "      <td>08:30:00</td>\n",
       "      <td>08:45:00</td>\n",
       "      <td>conditions Sandstorms</td>\n",
       "      <td>Low</td>\n",
       "      <td>0</td>\n",
       "      <td>Drinks</td>\n",
       "      <td>motorcycle</td>\n",
       "      <td>1</td>\n",
       "      <td>No</td>\n",
       "      <td>Urban</td>\n",
       "      <td>(min) 26</td>\n",
       "    </tr>\n",
       "    <tr>\n",
       "      <th>3</th>\n",
       "      <td>0x7a6a</td>\n",
       "      <td>COIMBRES13DEL02</td>\n",
       "      <td>38</td>\n",
       "      <td>4.7</td>\n",
       "      <td>11.003669</td>\n",
       "      <td>76.976494</td>\n",
       "      <td>11.053669</td>\n",
       "      <td>77.026494</td>\n",
       "      <td>05-04-2022</td>\n",
       "      <td>18:00:00</td>\n",
       "      <td>18:10:00</td>\n",
       "      <td>conditions Sunny</td>\n",
       "      <td>Medium</td>\n",
       "      <td>0</td>\n",
       "      <td>Buffet</td>\n",
       "      <td>motorcycle</td>\n",
       "      <td>1</td>\n",
       "      <td>No</td>\n",
       "      <td>Metropolitian</td>\n",
       "      <td>(min) 21</td>\n",
       "    </tr>\n",
       "    <tr>\n",
       "      <th>4</th>\n",
       "      <td>0x70a2</td>\n",
       "      <td>CHENRES12DEL01</td>\n",
       "      <td>32</td>\n",
       "      <td>4.6</td>\n",
       "      <td>12.972793</td>\n",
       "      <td>80.249982</td>\n",
       "      <td>13.012793</td>\n",
       "      <td>80.289982</td>\n",
       "      <td>26-03-2022</td>\n",
       "      <td>13:30:00</td>\n",
       "      <td>13:45:00</td>\n",
       "      <td>conditions Cloudy</td>\n",
       "      <td>High</td>\n",
       "      <td>1</td>\n",
       "      <td>Snack</td>\n",
       "      <td>scooter</td>\n",
       "      <td>1</td>\n",
       "      <td>No</td>\n",
       "      <td>Metropolitian</td>\n",
       "      <td>(min) 30</td>\n",
       "    </tr>\n",
       "  </tbody>\n",
       "</table>\n",
       "</div>"
      ],
      "text/plain": [
       "        ID Delivery_person_ID Delivery_person_Age Delivery_person_Ratings  \\\n",
       "0  0x4607     INDORES13DEL02                   37                     4.9   \n",
       "1  0xb379     BANGRES18DEL02                   34                     4.5   \n",
       "2  0x5d6d     BANGRES19DEL01                   23                     4.4   \n",
       "3  0x7a6a    COIMBRES13DEL02                   38                     4.7   \n",
       "4  0x70a2     CHENRES12DEL01                   32                     4.6   \n",
       "\n",
       "   Restaurant_latitude  Restaurant_longitude  Delivery_location_latitude  \\\n",
       "0            22.745049             75.892471                   22.765049   \n",
       "1            12.913041             77.683237                   13.043041   \n",
       "2            12.914264             77.678400                   12.924264   \n",
       "3            11.003669             76.976494                   11.053669   \n",
       "4            12.972793             80.249982                   13.012793   \n",
       "\n",
       "   Delivery_location_longitude  Order_Date Time_Orderd Time_Order_picked  \\\n",
       "0                    75.912471  19-03-2022    11:30:00          11:45:00   \n",
       "1                    77.813237  25-03-2022    19:45:00          19:50:00   \n",
       "2                    77.688400  19-03-2022    08:30:00          08:45:00   \n",
       "3                    77.026494  05-04-2022    18:00:00          18:10:00   \n",
       "4                    80.289982  26-03-2022    13:30:00          13:45:00   \n",
       "\n",
       "       Weatherconditions Road_traffic_density  Vehicle_condition  \\\n",
       "0       conditions Sunny                High                   2   \n",
       "1      conditions Stormy                 Jam                   2   \n",
       "2  conditions Sandstorms                 Low                   0   \n",
       "3       conditions Sunny              Medium                   0   \n",
       "4      conditions Cloudy                High                   1   \n",
       "\n",
       "  Type_of_order Type_of_vehicle multiple_deliveries Festival            City  \\\n",
       "0        Snack      motorcycle                    0      No           Urban    \n",
       "1        Snack         scooter                    1      No   Metropolitian    \n",
       "2       Drinks      motorcycle                    1      No           Urban    \n",
       "3       Buffet      motorcycle                    1      No   Metropolitian    \n",
       "4        Snack         scooter                    1      No   Metropolitian    \n",
       "\n",
       "  Time_taken(min)  \n",
       "0        (min) 24  \n",
       "1        (min) 33  \n",
       "2        (min) 26  \n",
       "3        (min) 21  \n",
       "4        (min) 30  "
      ]
     },
     "execution_count": 15,
     "metadata": {},
     "output_type": "execute_result"
    }
   ],
   "source": [
    "df_raw = pd.read_csv(RAW_DATA_PATH)\n",
    "df_raw.head()"
   ]
  },
  {
   "cell_type": "markdown",
   "metadata": {},
   "source": [
    "# 1.0. DATA DESCRIPTION"
   ]
  },
  {
   "cell_type": "code",
   "execution_count": 356,
   "metadata": {},
   "outputs": [
    {
     "data": {
      "text/html": [
       "<div>\n",
       "<style scoped>\n",
       "    .dataframe tbody tr th:only-of-type {\n",
       "        vertical-align: middle;\n",
       "    }\n",
       "\n",
       "    .dataframe tbody tr th {\n",
       "        vertical-align: top;\n",
       "    }\n",
       "\n",
       "    .dataframe thead th {\n",
       "        text-align: right;\n",
       "    }\n",
       "</style>\n",
       "<table border=\"1\" class=\"dataframe\">\n",
       "  <thead>\n",
       "    <tr style=\"text-align: right;\">\n",
       "      <th></th>\n",
       "      <th>ID</th>\n",
       "      <th>Delivery_person_ID</th>\n",
       "      <th>Delivery_person_Age</th>\n",
       "      <th>Delivery_person_Ratings</th>\n",
       "      <th>Restaurant_latitude</th>\n",
       "      <th>Restaurant_longitude</th>\n",
       "      <th>Delivery_location_latitude</th>\n",
       "      <th>Delivery_location_longitude</th>\n",
       "      <th>Order_Date</th>\n",
       "      <th>Time_Orderd</th>\n",
       "      <th>Time_Order_picked</th>\n",
       "      <th>Weatherconditions</th>\n",
       "      <th>Road_traffic_density</th>\n",
       "      <th>Vehicle_condition</th>\n",
       "      <th>Type_of_order</th>\n",
       "      <th>Type_of_vehicle</th>\n",
       "      <th>multiple_deliveries</th>\n",
       "      <th>Festival</th>\n",
       "      <th>City</th>\n",
       "      <th>Time_taken(min)</th>\n",
       "    </tr>\n",
       "  </thead>\n",
       "  <tbody>\n",
       "    <tr>\n",
       "      <th>0</th>\n",
       "      <td>0x4607</td>\n",
       "      <td>INDORES13DEL02</td>\n",
       "      <td>37</td>\n",
       "      <td>4.9</td>\n",
       "      <td>22.745049</td>\n",
       "      <td>75.892471</td>\n",
       "      <td>22.765049</td>\n",
       "      <td>75.912471</td>\n",
       "      <td>19-03-2022</td>\n",
       "      <td>11:30:00</td>\n",
       "      <td>11:45:00</td>\n",
       "      <td>conditions Sunny</td>\n",
       "      <td>High</td>\n",
       "      <td>2</td>\n",
       "      <td>Snack</td>\n",
       "      <td>motorcycle</td>\n",
       "      <td>0</td>\n",
       "      <td>No</td>\n",
       "      <td>Urban</td>\n",
       "      <td>(min) 24</td>\n",
       "    </tr>\n",
       "    <tr>\n",
       "      <th>1</th>\n",
       "      <td>0xb379</td>\n",
       "      <td>BANGRES18DEL02</td>\n",
       "      <td>34</td>\n",
       "      <td>4.5</td>\n",
       "      <td>12.913041</td>\n",
       "      <td>77.683237</td>\n",
       "      <td>13.043041</td>\n",
       "      <td>77.813237</td>\n",
       "      <td>25-03-2022</td>\n",
       "      <td>19:45:00</td>\n",
       "      <td>19:50:00</td>\n",
       "      <td>conditions Stormy</td>\n",
       "      <td>Jam</td>\n",
       "      <td>2</td>\n",
       "      <td>Snack</td>\n",
       "      <td>scooter</td>\n",
       "      <td>1</td>\n",
       "      <td>No</td>\n",
       "      <td>Metropolitian</td>\n",
       "      <td>(min) 33</td>\n",
       "    </tr>\n",
       "    <tr>\n",
       "      <th>2</th>\n",
       "      <td>0x5d6d</td>\n",
       "      <td>BANGRES19DEL01</td>\n",
       "      <td>23</td>\n",
       "      <td>4.4</td>\n",
       "      <td>12.914264</td>\n",
       "      <td>77.678400</td>\n",
       "      <td>12.924264</td>\n",
       "      <td>77.688400</td>\n",
       "      <td>19-03-2022</td>\n",
       "      <td>08:30:00</td>\n",
       "      <td>08:45:00</td>\n",
       "      <td>conditions Sandstorms</td>\n",
       "      <td>Low</td>\n",
       "      <td>0</td>\n",
       "      <td>Drinks</td>\n",
       "      <td>motorcycle</td>\n",
       "      <td>1</td>\n",
       "      <td>No</td>\n",
       "      <td>Urban</td>\n",
       "      <td>(min) 26</td>\n",
       "    </tr>\n",
       "    <tr>\n",
       "      <th>3</th>\n",
       "      <td>0x7a6a</td>\n",
       "      <td>COIMBRES13DEL02</td>\n",
       "      <td>38</td>\n",
       "      <td>4.7</td>\n",
       "      <td>11.003669</td>\n",
       "      <td>76.976494</td>\n",
       "      <td>11.053669</td>\n",
       "      <td>77.026494</td>\n",
       "      <td>05-04-2022</td>\n",
       "      <td>18:00:00</td>\n",
       "      <td>18:10:00</td>\n",
       "      <td>conditions Sunny</td>\n",
       "      <td>Medium</td>\n",
       "      <td>0</td>\n",
       "      <td>Buffet</td>\n",
       "      <td>motorcycle</td>\n",
       "      <td>1</td>\n",
       "      <td>No</td>\n",
       "      <td>Metropolitian</td>\n",
       "      <td>(min) 21</td>\n",
       "    </tr>\n",
       "    <tr>\n",
       "      <th>4</th>\n",
       "      <td>0x70a2</td>\n",
       "      <td>CHENRES12DEL01</td>\n",
       "      <td>32</td>\n",
       "      <td>4.6</td>\n",
       "      <td>12.972793</td>\n",
       "      <td>80.249982</td>\n",
       "      <td>13.012793</td>\n",
       "      <td>80.289982</td>\n",
       "      <td>26-03-2022</td>\n",
       "      <td>13:30:00</td>\n",
       "      <td>13:45:00</td>\n",
       "      <td>conditions Cloudy</td>\n",
       "      <td>High</td>\n",
       "      <td>1</td>\n",
       "      <td>Snack</td>\n",
       "      <td>scooter</td>\n",
       "      <td>1</td>\n",
       "      <td>No</td>\n",
       "      <td>Metropolitian</td>\n",
       "      <td>(min) 30</td>\n",
       "    </tr>\n",
       "  </tbody>\n",
       "</table>\n",
       "</div>"
      ],
      "text/plain": [
       "        ID Delivery_person_ID Delivery_person_Age Delivery_person_Ratings  \\\n",
       "0  0x4607     INDORES13DEL02                   37                     4.9   \n",
       "1  0xb379     BANGRES18DEL02                   34                     4.5   \n",
       "2  0x5d6d     BANGRES19DEL01                   23                     4.4   \n",
       "3  0x7a6a    COIMBRES13DEL02                   38                     4.7   \n",
       "4  0x70a2     CHENRES12DEL01                   32                     4.6   \n",
       "\n",
       "   Restaurant_latitude  Restaurant_longitude  Delivery_location_latitude  \\\n",
       "0            22.745049             75.892471                   22.765049   \n",
       "1            12.913041             77.683237                   13.043041   \n",
       "2            12.914264             77.678400                   12.924264   \n",
       "3            11.003669             76.976494                   11.053669   \n",
       "4            12.972793             80.249982                   13.012793   \n",
       "\n",
       "   Delivery_location_longitude  Order_Date Time_Orderd Time_Order_picked  \\\n",
       "0                    75.912471  19-03-2022    11:30:00          11:45:00   \n",
       "1                    77.813237  25-03-2022    19:45:00          19:50:00   \n",
       "2                    77.688400  19-03-2022    08:30:00          08:45:00   \n",
       "3                    77.026494  05-04-2022    18:00:00          18:10:00   \n",
       "4                    80.289982  26-03-2022    13:30:00          13:45:00   \n",
       "\n",
       "       Weatherconditions Road_traffic_density  Vehicle_condition  \\\n",
       "0       conditions Sunny                High                   2   \n",
       "1      conditions Stormy                 Jam                   2   \n",
       "2  conditions Sandstorms                 Low                   0   \n",
       "3       conditions Sunny              Medium                   0   \n",
       "4      conditions Cloudy                High                   1   \n",
       "\n",
       "  Type_of_order Type_of_vehicle multiple_deliveries Festival            City  \\\n",
       "0        Snack      motorcycle                    0      No           Urban    \n",
       "1        Snack         scooter                    1      No   Metropolitian    \n",
       "2       Drinks      motorcycle                    1      No           Urban    \n",
       "3       Buffet      motorcycle                    1      No   Metropolitian    \n",
       "4        Snack         scooter                    1      No   Metropolitian    \n",
       "\n",
       "  Time_taken(min)  \n",
       "0        (min) 24  \n",
       "1        (min) 33  \n",
       "2        (min) 26  \n",
       "3        (min) 21  \n",
       "4        (min) 30  "
      ]
     },
     "execution_count": 356,
     "metadata": {},
     "output_type": "execute_result"
    }
   ],
   "source": [
    "df1 = df_raw.copy()\n",
    "df1.head()"
   ]
  },
  {
   "cell_type": "markdown",
   "metadata": {},
   "source": [
    "## 1.1. Columns Description"
   ]
  },
  {
   "cell_type": "markdown",
   "metadata": {},
   "source": [
    "| Column | Description |\n",
    "| :----- | :---------- |\n",
    "| ID | ID do restaurante |\n",
    "| delivery_person | ID do entregador |\n",
    "| delivery_person_age | Idade do entregador |\n",
    "| delivery_person_ratings | Avaliação do entregador |\n",
    "| restaurant_latitude | Latitude do restaurante |\n",
    "| restaurant_longitude | Longitude do restaurante |\n",
    "| delivery_location_latitude | Latitude do local de entrega |\n",
    "| delivery_location_longitude | Longitude do local de entrega |\n",
    "| order_date | Data do pedido |\n",
    "| time_orderd | Horário do pedido |\n",
    "| time_orderd_picked | Horário do pedido retirado |\n",
    "| weatherconditions | Condições climáticas; Fog - Stormy - Cloudy - Sandstorms - Windy - Sunny |\n",
    "| road_traffic_density | Densidade do tráfego; Low - Medium - High - Jam |\n",
    "| vehicle_condition | Condição do veículo; 0 - 1 - 2 |\n",
    "| type_of_order | Tipo de pedido; Snack - Meal - Drinks - Buffet |\n",
    "| type_of_vehicle | Tipo de veículo; motorcycle - scooter - eletric_scooter - bicycle |\n",
    "| multiple_deliveries | Se o restaurante faz entregas múltiplas; 0 - 1 - 2 - 3 |\n",
    "| festival | Se o pedido foi entregue durante o Festival; Sim ou Não |\n",
    "| city | Tipos de cidade; Metropolitian - Semi-Urban - Urban |\n",
    "| time_taken(min) | Tempo de entrega em minutos |"
   ]
  },
  {
   "cell_type": "markdown",
   "metadata": {},
   "source": [
    "## 1.2. Rename Columns"
   ]
  },
  {
   "cell_type": "code",
   "execution_count": 256,
   "metadata": {},
   "outputs": [
    {
     "data": {
      "text/html": [
       "<div>\n",
       "<style scoped>\n",
       "    .dataframe tbody tr th:only-of-type {\n",
       "        vertical-align: middle;\n",
       "    }\n",
       "\n",
       "    .dataframe tbody tr th {\n",
       "        vertical-align: top;\n",
       "    }\n",
       "\n",
       "    .dataframe thead th {\n",
       "        text-align: right;\n",
       "    }\n",
       "</style>\n",
       "<table border=\"1\" class=\"dataframe\">\n",
       "  <thead>\n",
       "    <tr style=\"text-align: right;\">\n",
       "      <th></th>\n",
       "      <th>id</th>\n",
       "      <th>delivery_person</th>\n",
       "      <th>delivery_person_age</th>\n",
       "      <th>delivery_person_ratings</th>\n",
       "      <th>restaurant_latitude</th>\n",
       "      <th>restaurant_longitude</th>\n",
       "      <th>delivery_location_latitude</th>\n",
       "      <th>delivery_location_longitude</th>\n",
       "      <th>order_date</th>\n",
       "      <th>time_orderd</th>\n",
       "      <th>time_order_picked</th>\n",
       "      <th>weatherconditions</th>\n",
       "      <th>road_traffic_density</th>\n",
       "      <th>vehicle_condition</th>\n",
       "      <th>type_of_order</th>\n",
       "      <th>type_of_vehicle</th>\n",
       "      <th>multiple_deliveries</th>\n",
       "      <th>festival</th>\n",
       "      <th>city</th>\n",
       "      <th>time_taken(min)</th>\n",
       "    </tr>\n",
       "  </thead>\n",
       "  <tbody>\n",
       "    <tr>\n",
       "      <th>0</th>\n",
       "      <td>0x4607</td>\n",
       "      <td>INDORES13DEL02</td>\n",
       "      <td>37</td>\n",
       "      <td>4.9</td>\n",
       "      <td>22.745049</td>\n",
       "      <td>75.892471</td>\n",
       "      <td>22.765049</td>\n",
       "      <td>75.912471</td>\n",
       "      <td>19-03-2022</td>\n",
       "      <td>11:30:00</td>\n",
       "      <td>11:45:00</td>\n",
       "      <td>conditions Sunny</td>\n",
       "      <td>High</td>\n",
       "      <td>2</td>\n",
       "      <td>Snack</td>\n",
       "      <td>motorcycle</td>\n",
       "      <td>0</td>\n",
       "      <td>No</td>\n",
       "      <td>Urban</td>\n",
       "      <td>(min) 24</td>\n",
       "    </tr>\n",
       "    <tr>\n",
       "      <th>1</th>\n",
       "      <td>0xb379</td>\n",
       "      <td>BANGRES18DEL02</td>\n",
       "      <td>34</td>\n",
       "      <td>4.5</td>\n",
       "      <td>12.913041</td>\n",
       "      <td>77.683237</td>\n",
       "      <td>13.043041</td>\n",
       "      <td>77.813237</td>\n",
       "      <td>25-03-2022</td>\n",
       "      <td>19:45:00</td>\n",
       "      <td>19:50:00</td>\n",
       "      <td>conditions Stormy</td>\n",
       "      <td>Jam</td>\n",
       "      <td>2</td>\n",
       "      <td>Snack</td>\n",
       "      <td>scooter</td>\n",
       "      <td>1</td>\n",
       "      <td>No</td>\n",
       "      <td>Metropolitian</td>\n",
       "      <td>(min) 33</td>\n",
       "    </tr>\n",
       "    <tr>\n",
       "      <th>2</th>\n",
       "      <td>0x5d6d</td>\n",
       "      <td>BANGRES19DEL01</td>\n",
       "      <td>23</td>\n",
       "      <td>4.4</td>\n",
       "      <td>12.914264</td>\n",
       "      <td>77.678400</td>\n",
       "      <td>12.924264</td>\n",
       "      <td>77.688400</td>\n",
       "      <td>19-03-2022</td>\n",
       "      <td>08:30:00</td>\n",
       "      <td>08:45:00</td>\n",
       "      <td>conditions Sandstorms</td>\n",
       "      <td>Low</td>\n",
       "      <td>0</td>\n",
       "      <td>Drinks</td>\n",
       "      <td>motorcycle</td>\n",
       "      <td>1</td>\n",
       "      <td>No</td>\n",
       "      <td>Urban</td>\n",
       "      <td>(min) 26</td>\n",
       "    </tr>\n",
       "    <tr>\n",
       "      <th>3</th>\n",
       "      <td>0x7a6a</td>\n",
       "      <td>COIMBRES13DEL02</td>\n",
       "      <td>38</td>\n",
       "      <td>4.7</td>\n",
       "      <td>11.003669</td>\n",
       "      <td>76.976494</td>\n",
       "      <td>11.053669</td>\n",
       "      <td>77.026494</td>\n",
       "      <td>05-04-2022</td>\n",
       "      <td>18:00:00</td>\n",
       "      <td>18:10:00</td>\n",
       "      <td>conditions Sunny</td>\n",
       "      <td>Medium</td>\n",
       "      <td>0</td>\n",
       "      <td>Buffet</td>\n",
       "      <td>motorcycle</td>\n",
       "      <td>1</td>\n",
       "      <td>No</td>\n",
       "      <td>Metropolitian</td>\n",
       "      <td>(min) 21</td>\n",
       "    </tr>\n",
       "    <tr>\n",
       "      <th>4</th>\n",
       "      <td>0x70a2</td>\n",
       "      <td>CHENRES12DEL01</td>\n",
       "      <td>32</td>\n",
       "      <td>4.6</td>\n",
       "      <td>12.972793</td>\n",
       "      <td>80.249982</td>\n",
       "      <td>13.012793</td>\n",
       "      <td>80.289982</td>\n",
       "      <td>26-03-2022</td>\n",
       "      <td>13:30:00</td>\n",
       "      <td>13:45:00</td>\n",
       "      <td>conditions Cloudy</td>\n",
       "      <td>High</td>\n",
       "      <td>1</td>\n",
       "      <td>Snack</td>\n",
       "      <td>scooter</td>\n",
       "      <td>1</td>\n",
       "      <td>No</td>\n",
       "      <td>Metropolitian</td>\n",
       "      <td>(min) 30</td>\n",
       "    </tr>\n",
       "  </tbody>\n",
       "</table>\n",
       "</div>"
      ],
      "text/plain": [
       "        id   delivery_person delivery_person_age delivery_person_ratings  \\\n",
       "0  0x4607    INDORES13DEL02                   37                     4.9   \n",
       "1  0xb379    BANGRES18DEL02                   34                     4.5   \n",
       "2  0x5d6d    BANGRES19DEL01                   23                     4.4   \n",
       "3  0x7a6a   COIMBRES13DEL02                   38                     4.7   \n",
       "4  0x70a2    CHENRES12DEL01                   32                     4.6   \n",
       "\n",
       "   restaurant_latitude  restaurant_longitude  delivery_location_latitude  \\\n",
       "0            22.745049             75.892471                   22.765049   \n",
       "1            12.913041             77.683237                   13.043041   \n",
       "2            12.914264             77.678400                   12.924264   \n",
       "3            11.003669             76.976494                   11.053669   \n",
       "4            12.972793             80.249982                   13.012793   \n",
       "\n",
       "   delivery_location_longitude  order_date time_orderd time_order_picked  \\\n",
       "0                    75.912471  19-03-2022    11:30:00          11:45:00   \n",
       "1                    77.813237  25-03-2022    19:45:00          19:50:00   \n",
       "2                    77.688400  19-03-2022    08:30:00          08:45:00   \n",
       "3                    77.026494  05-04-2022    18:00:00          18:10:00   \n",
       "4                    80.289982  26-03-2022    13:30:00          13:45:00   \n",
       "\n",
       "       weatherconditions road_traffic_density  vehicle_condition  \\\n",
       "0       conditions Sunny                High                   2   \n",
       "1      conditions Stormy                 Jam                   2   \n",
       "2  conditions Sandstorms                 Low                   0   \n",
       "3       conditions Sunny              Medium                   0   \n",
       "4      conditions Cloudy                High                   1   \n",
       "\n",
       "  type_of_order type_of_vehicle multiple_deliveries festival            city  \\\n",
       "0        Snack      motorcycle                    0      No           Urban    \n",
       "1        Snack         scooter                    1      No   Metropolitian    \n",
       "2       Drinks      motorcycle                    1      No           Urban    \n",
       "3       Buffet      motorcycle                    1      No   Metropolitian    \n",
       "4        Snack         scooter                    1      No   Metropolitian    \n",
       "\n",
       "  time_taken(min)  \n",
       "0        (min) 24  \n",
       "1        (min) 33  \n",
       "2        (min) 26  \n",
       "3        (min) 21  \n",
       "4        (min) 30  "
      ]
     },
     "execution_count": 256,
     "metadata": {},
     "output_type": "execute_result"
    }
   ],
   "source": [
    "df1 = rename_columns(df1)\n",
    "df1.head()"
   ]
  },
  {
   "cell_type": "markdown",
   "metadata": {},
   "source": [
    "## 1.3. Data Dimensions"
   ]
  },
  {
   "cell_type": "code",
   "execution_count": 357,
   "metadata": {},
   "outputs": [
    {
     "name": "stdout",
     "output_type": "stream",
     "text": [
      "Number of Rows: 45593\n",
      "Number of Columns: 20\n"
     ]
    }
   ],
   "source": [
    "show_dataframe_dimensions(df1)"
   ]
  },
  {
   "cell_type": "markdown",
   "metadata": {},
   "source": [
    "## 1.4. Data Types"
   ]
  },
  {
   "cell_type": "code",
   "execution_count": 358,
   "metadata": {},
   "outputs": [
    {
     "data": {
      "text/plain": [
       "ID                              object\n",
       "Delivery_person_ID              object\n",
       "Delivery_person_Age             object\n",
       "Delivery_person_Ratings         object\n",
       "Restaurant_latitude            float64\n",
       "Restaurant_longitude           float64\n",
       "Delivery_location_latitude     float64\n",
       "Delivery_location_longitude    float64\n",
       "Order_Date                      object\n",
       "Time_Orderd                     object\n",
       "Time_Order_picked               object\n",
       "Weatherconditions               object\n",
       "Road_traffic_density            object\n",
       "Vehicle_condition                int64\n",
       "Type_of_order                   object\n",
       "Type_of_vehicle                 object\n",
       "multiple_deliveries             object\n",
       "Festival                        object\n",
       "City                            object\n",
       "Time_taken(min)                 object\n",
       "dtype: object"
      ]
     },
     "execution_count": 358,
     "metadata": {},
     "output_type": "execute_result"
    }
   ],
   "source": [
    "df1.dtypes"
   ]
  },
  {
   "cell_type": "markdown",
   "metadata": {},
   "source": [
    "## 1.5. Checking NA"
   ]
  },
  {
   "cell_type": "code",
   "execution_count": 240,
   "metadata": {},
   "outputs": [
    {
     "data": {
      "text/plain": [
       "id                             0\n",
       "delivery_person                0\n",
       "delivery_person_age            0\n",
       "delivery_person_ratings        0\n",
       "restaurant_latitude            0\n",
       "restaurant_longitude           0\n",
       "delivery_location_latitude     0\n",
       "delivery_location_longitude    0\n",
       "order_date                     0\n",
       "time_orderd                    0\n",
       "time_order_picked              0\n",
       "weatherconditions              0\n",
       "road_traffic_density           0\n",
       "vehicle_condition              0\n",
       "type_of_order                  0\n",
       "type_of_vehicle                0\n",
       "multiple_deliveries            0\n",
       "festival                       0\n",
       "city                           0\n",
       "time_taken(min)                0\n",
       "dtype: int64"
      ]
     },
     "execution_count": 240,
     "metadata": {},
     "output_type": "execute_result"
    }
   ],
   "source": [
    "df1.isna().sum()"
   ]
  },
  {
   "cell_type": "code",
   "execution_count": 241,
   "metadata": {},
   "outputs": [
    {
     "data": {
      "text/plain": [
       "id                                0\n",
       "delivery_person                   0\n",
       "delivery_person_age            1854\n",
       "delivery_person_ratings        1908\n",
       "restaurant_latitude               0\n",
       "restaurant_longitude              0\n",
       "delivery_location_latitude        0\n",
       "delivery_location_longitude       0\n",
       "order_date                        0\n",
       "time_orderd                    1731\n",
       "time_order_picked                 0\n",
       "weatherconditions                 0\n",
       "road_traffic_density            601\n",
       "vehicle_condition                 0\n",
       "type_of_order                     0\n",
       "type_of_vehicle                   0\n",
       "multiple_deliveries             993\n",
       "festival                        228\n",
       "city                           1200\n",
       "time_taken(min)                   0\n",
       "dtype: int64"
      ]
     },
     "execution_count": 241,
     "metadata": {},
     "output_type": "execute_result"
    }
   ],
   "source": [
    "df1[df1 == \"NaN \"].count()"
   ]
  },
  {
   "cell_type": "markdown",
   "metadata": {},
   "source": [
    "## 1.6. Treating NA"
   ]
  },
  {
   "cell_type": "code",
   "execution_count": 22,
   "metadata": {},
   "outputs": [
    {
     "data": {
      "text/plain": [
       "id                             0\n",
       "delivery_person                0\n",
       "delivery_person_age            0\n",
       "delivery_person_ratings        0\n",
       "restaurant_latitude            0\n",
       "restaurant_longitude           0\n",
       "delivery_location_latitude     0\n",
       "delivery_location_longitude    0\n",
       "order_date                     0\n",
       "time_orderd                    0\n",
       "time_order_picked              0\n",
       "weatherconditions              0\n",
       "road_traffic_density           0\n",
       "vehicle_condition              0\n",
       "type_of_order                  0\n",
       "type_of_vehicle                0\n",
       "multiple_deliveries            0\n",
       "festival                       0\n",
       "city                           0\n",
       "time_taken(min)                0\n",
       "dtype: int64"
      ]
     },
     "execution_count": 22,
     "metadata": {},
     "output_type": "execute_result"
    }
   ],
   "source": [
    "df1 = df1.dropna()\n",
    "df1.isna().sum()"
   ]
  },
  {
   "cell_type": "code",
   "execution_count": 23,
   "metadata": {},
   "outputs": [
    {
     "data": {
      "text/html": [
       "<div>\n",
       "<style scoped>\n",
       "    .dataframe tbody tr th:only-of-type {\n",
       "        vertical-align: middle;\n",
       "    }\n",
       "\n",
       "    .dataframe tbody tr th {\n",
       "        vertical-align: top;\n",
       "    }\n",
       "\n",
       "    .dataframe thead th {\n",
       "        text-align: right;\n",
       "    }\n",
       "</style>\n",
       "<table border=\"1\" class=\"dataframe\">\n",
       "  <thead>\n",
       "    <tr style=\"text-align: right;\">\n",
       "      <th></th>\n",
       "      <th>delivery_person_age</th>\n",
       "      <th>count</th>\n",
       "    </tr>\n",
       "  </thead>\n",
       "  <tbody>\n",
       "    <tr>\n",
       "      <th>0</th>\n",
       "      <td>35</td>\n",
       "      <td>2262</td>\n",
       "    </tr>\n",
       "    <tr>\n",
       "      <th>1</th>\n",
       "      <td>36</td>\n",
       "      <td>2260</td>\n",
       "    </tr>\n",
       "    <tr>\n",
       "      <th>2</th>\n",
       "      <td>37</td>\n",
       "      <td>2227</td>\n",
       "    </tr>\n",
       "    <tr>\n",
       "      <th>3</th>\n",
       "      <td>30</td>\n",
       "      <td>2226</td>\n",
       "    </tr>\n",
       "    <tr>\n",
       "      <th>4</th>\n",
       "      <td>38</td>\n",
       "      <td>2219</td>\n",
       "    </tr>\n",
       "    <tr>\n",
       "      <th>5</th>\n",
       "      <td>24</td>\n",
       "      <td>2210</td>\n",
       "    </tr>\n",
       "    <tr>\n",
       "      <th>6</th>\n",
       "      <td>32</td>\n",
       "      <td>2202</td>\n",
       "    </tr>\n",
       "    <tr>\n",
       "      <th>7</th>\n",
       "      <td>22</td>\n",
       "      <td>2196</td>\n",
       "    </tr>\n",
       "    <tr>\n",
       "      <th>8</th>\n",
       "      <td>29</td>\n",
       "      <td>2191</td>\n",
       "    </tr>\n",
       "    <tr>\n",
       "      <th>9</th>\n",
       "      <td>33</td>\n",
       "      <td>2187</td>\n",
       "    </tr>\n",
       "    <tr>\n",
       "      <th>10</th>\n",
       "      <td>28</td>\n",
       "      <td>2179</td>\n",
       "    </tr>\n",
       "    <tr>\n",
       "      <th>11</th>\n",
       "      <td>25</td>\n",
       "      <td>2174</td>\n",
       "    </tr>\n",
       "    <tr>\n",
       "      <th>12</th>\n",
       "      <td>34</td>\n",
       "      <td>2166</td>\n",
       "    </tr>\n",
       "    <tr>\n",
       "      <th>13</th>\n",
       "      <td>26</td>\n",
       "      <td>2159</td>\n",
       "    </tr>\n",
       "    <tr>\n",
       "      <th>14</th>\n",
       "      <td>21</td>\n",
       "      <td>2153</td>\n",
       "    </tr>\n",
       "    <tr>\n",
       "      <th>15</th>\n",
       "      <td>27</td>\n",
       "      <td>2150</td>\n",
       "    </tr>\n",
       "    <tr>\n",
       "      <th>16</th>\n",
       "      <td>39</td>\n",
       "      <td>2144</td>\n",
       "    </tr>\n",
       "    <tr>\n",
       "      <th>17</th>\n",
       "      <td>20</td>\n",
       "      <td>2136</td>\n",
       "    </tr>\n",
       "    <tr>\n",
       "      <th>18</th>\n",
       "      <td>31</td>\n",
       "      <td>2120</td>\n",
       "    </tr>\n",
       "    <tr>\n",
       "      <th>19</th>\n",
       "      <td>23</td>\n",
       "      <td>2087</td>\n",
       "    </tr>\n",
       "    <tr>\n",
       "      <th>20</th>\n",
       "      <td>NaN</td>\n",
       "      <td>1854</td>\n",
       "    </tr>\n",
       "    <tr>\n",
       "      <th>21</th>\n",
       "      <td>50</td>\n",
       "      <td>53</td>\n",
       "    </tr>\n",
       "    <tr>\n",
       "      <th>22</th>\n",
       "      <td>15</td>\n",
       "      <td>38</td>\n",
       "    </tr>\n",
       "  </tbody>\n",
       "</table>\n",
       "</div>"
      ],
      "text/plain": [
       "   delivery_person_age  count\n",
       "0                   35   2262\n",
       "1                   36   2260\n",
       "2                   37   2227\n",
       "3                   30   2226\n",
       "4                   38   2219\n",
       "5                   24   2210\n",
       "6                   32   2202\n",
       "7                   22   2196\n",
       "8                   29   2191\n",
       "9                   33   2187\n",
       "10                  28   2179\n",
       "11                  25   2174\n",
       "12                  34   2166\n",
       "13                  26   2159\n",
       "14                  21   2153\n",
       "15                  27   2150\n",
       "16                  39   2144\n",
       "17                  20   2136\n",
       "18                  31   2120\n",
       "19                  23   2087\n",
       "20                NaN    1854\n",
       "21                  50     53\n",
       "22                  15     38"
      ]
     },
     "execution_count": 23,
     "metadata": {},
     "output_type": "execute_result"
    }
   ],
   "source": [
    "df1.delivery_person_age.value_counts().reset_index()"
   ]
  },
  {
   "cell_type": "code",
   "execution_count": 432,
   "metadata": {},
   "outputs": [],
   "source": [
    "df1 = df1[df1[\"delivery_person_age\"] != \"NaN \"]\n",
    "df1 = df1[df1[\"delivery_person_ratings\"] != \"NaN \"]\n",
    "df1 = df1[df1[\"time_orderd\"] != \"NaN \"]\n",
    "df1 = df1[df1[\"road_traffic_density\"] != \"NaN \"]\n",
    "df1 = df1[df1[\"multiple_deliveries\"] != \"NaN \"]\n",
    "df1 = df1[df1[\"festival\"] != \"NaN \"]\n",
    "df1 = df1[df1[\"city\"] != \"NaN \"]\n",
    "df1['festival'] = df1['festival'].apply(lambda x: x.strip())"
   ]
  },
  {
   "cell_type": "code",
   "execution_count": 342,
   "metadata": {},
   "outputs": [
    {
     "data": {
      "text/plain": [
       "id                             0\n",
       "delivery_person                0\n",
       "delivery_person_age            0\n",
       "delivery_person_ratings        0\n",
       "restaurant_latitude            0\n",
       "restaurant_longitude           0\n",
       "delivery_location_latitude     0\n",
       "delivery_location_longitude    0\n",
       "order_date                     0\n",
       "time_orderd                    0\n",
       "time_order_picked              0\n",
       "weatherconditions              0\n",
       "road_traffic_density           0\n",
       "vehicle_condition              0\n",
       "type_of_order                  0\n",
       "type_of_vehicle                0\n",
       "multiple_deliveries            0\n",
       "festival                       0\n",
       "city                           0\n",
       "time_taken(min)                0\n",
       "dtype: int64"
      ]
     },
     "execution_count": 342,
     "metadata": {},
     "output_type": "execute_result"
    }
   ],
   "source": [
    "df1[df1 == \"No \"].count()"
   ]
  },
  {
   "cell_type": "code",
   "execution_count": 375,
   "metadata": {},
   "outputs": [
    {
     "data": {
      "text/plain": [
       "id                             0\n",
       "delivery_person                0\n",
       "delivery_person_age            0\n",
       "delivery_person_ratings        0\n",
       "restaurant_latitude            0\n",
       "restaurant_longitude           0\n",
       "delivery_location_latitude     0\n",
       "delivery_location_longitude    0\n",
       "order_date                     0\n",
       "time_orderd                    0\n",
       "time_order_picked              0\n",
       "weatherconditions              0\n",
       "road_traffic_density           0\n",
       "vehicle_condition              0\n",
       "type_of_order                  0\n",
       "type_of_vehicle                0\n",
       "multiple_deliveries            0\n",
       "festival                       0\n",
       "city                           0\n",
       "time_taken(min)                0\n",
       "dtype: int64"
      ]
     },
     "execution_count": 375,
     "metadata": {},
     "output_type": "execute_result"
    }
   ],
   "source": [
    "df1[df1 == \"NaN \"].count()"
   ]
  },
  {
   "cell_type": "markdown",
   "metadata": {},
   "source": [
    "## 1.7. Change Types"
   ]
  },
  {
   "cell_type": "markdown",
   "metadata": {},
   "source": [
    "### 1.7.0 delivery_person_age"
   ]
  },
  {
   "cell_type": "code",
   "execution_count": 376,
   "metadata": {},
   "outputs": [
    {
     "data": {
      "text/plain": [
       "dtype('int64')"
      ]
     },
     "execution_count": 376,
     "metadata": {},
     "output_type": "execute_result"
    }
   ],
   "source": [
    "df1['delivery_person_age'] = pd.to_numeric(df1['delivery_person_age'], errors='coerce')\n",
    "df1.delivery_person_age.dtypes"
   ]
  },
  {
   "cell_type": "markdown",
   "metadata": {},
   "source": [
    "### 1.7.1 delivery_person_ratings"
   ]
  },
  {
   "cell_type": "code",
   "execution_count": 377,
   "metadata": {},
   "outputs": [
    {
     "data": {
      "text/plain": [
       "dtype('float64')"
      ]
     },
     "execution_count": 377,
     "metadata": {},
     "output_type": "execute_result"
    }
   ],
   "source": [
    "df1['delivery_person_ratings'] = df1['delivery_person_ratings'].astype(float)\n",
    "df1.delivery_person_ratings.dtypes"
   ]
  },
  {
   "cell_type": "markdown",
   "metadata": {},
   "source": [
    "### 1.7.2 order_date"
   ]
  },
  {
   "cell_type": "code",
   "execution_count": 378,
   "metadata": {},
   "outputs": [
    {
     "data": {
      "text/plain": [
       "id                                     object\n",
       "delivery_person                        object\n",
       "delivery_person_age                     int64\n",
       "delivery_person_ratings               float64\n",
       "restaurant_latitude                   float64\n",
       "restaurant_longitude                  float64\n",
       "delivery_location_latitude            float64\n",
       "delivery_location_longitude           float64\n",
       "order_date                     datetime64[ns]\n",
       "time_orderd                            object\n",
       "time_order_picked                      object\n",
       "weatherconditions                      object\n",
       "road_traffic_density                   object\n",
       "vehicle_condition                       int64\n",
       "type_of_order                          object\n",
       "type_of_vehicle                        object\n",
       "multiple_deliveries                    object\n",
       "festival                               object\n",
       "city                                   object\n",
       "time_taken(min)                        object\n",
       "dtype: object"
      ]
     },
     "execution_count": 378,
     "metadata": {},
     "output_type": "execute_result"
    }
   ],
   "source": [
    "df1['order_date'] = pd.to_datetime(df1['order_date'], format='%d-%m-%Y')\n",
    "df1.dtypes"
   ]
  },
  {
   "cell_type": "markdown",
   "metadata": {},
   "source": [
    "### 1.7.3 time_taken(min)"
   ]
  },
  {
   "cell_type": "code",
   "execution_count": 379,
   "metadata": {},
   "outputs": [],
   "source": [
    "df1['time_taken(min)'] = df1['time_taken(min)'].apply(lambda x: x.split(\"(min)\")[1]).astype(int)"
   ]
  },
  {
   "cell_type": "code",
   "execution_count": 380,
   "metadata": {},
   "outputs": [
    {
     "data": {
      "text/html": [
       "<div>\n",
       "<style scoped>\n",
       "    .dataframe tbody tr th:only-of-type {\n",
       "        vertical-align: middle;\n",
       "    }\n",
       "\n",
       "    .dataframe tbody tr th {\n",
       "        vertical-align: top;\n",
       "    }\n",
       "\n",
       "    .dataframe thead th {\n",
       "        text-align: right;\n",
       "    }\n",
       "</style>\n",
       "<table border=\"1\" class=\"dataframe\">\n",
       "  <thead>\n",
       "    <tr style=\"text-align: right;\">\n",
       "      <th></th>\n",
       "      <th>id</th>\n",
       "      <th>delivery_person</th>\n",
       "      <th>delivery_person_age</th>\n",
       "      <th>delivery_person_ratings</th>\n",
       "      <th>restaurant_latitude</th>\n",
       "      <th>restaurant_longitude</th>\n",
       "      <th>delivery_location_latitude</th>\n",
       "      <th>delivery_location_longitude</th>\n",
       "      <th>order_date</th>\n",
       "      <th>time_orderd</th>\n",
       "      <th>time_order_picked</th>\n",
       "      <th>weatherconditions</th>\n",
       "      <th>road_traffic_density</th>\n",
       "      <th>vehicle_condition</th>\n",
       "      <th>type_of_order</th>\n",
       "      <th>type_of_vehicle</th>\n",
       "      <th>multiple_deliveries</th>\n",
       "      <th>festival</th>\n",
       "      <th>city</th>\n",
       "      <th>time_taken(min)</th>\n",
       "    </tr>\n",
       "  </thead>\n",
       "  <tbody>\n",
       "    <tr>\n",
       "      <th>0</th>\n",
       "      <td>0x4607</td>\n",
       "      <td>INDORES13DEL02</td>\n",
       "      <td>37</td>\n",
       "      <td>4.9</td>\n",
       "      <td>22.745049</td>\n",
       "      <td>75.892471</td>\n",
       "      <td>22.765049</td>\n",
       "      <td>75.912471</td>\n",
       "      <td>2022-03-19</td>\n",
       "      <td>11:30:00</td>\n",
       "      <td>11:45:00</td>\n",
       "      <td>conditions Sunny</td>\n",
       "      <td>High</td>\n",
       "      <td>2</td>\n",
       "      <td>Snack</td>\n",
       "      <td>motorcycle</td>\n",
       "      <td>0</td>\n",
       "      <td>No</td>\n",
       "      <td>Urban</td>\n",
       "      <td>24</td>\n",
       "    </tr>\n",
       "  </tbody>\n",
       "</table>\n",
       "</div>"
      ],
      "text/plain": [
       "        id  delivery_person  delivery_person_age  delivery_person_ratings  \\\n",
       "0  0x4607   INDORES13DEL02                    37                      4.9   \n",
       "\n",
       "   restaurant_latitude  restaurant_longitude  delivery_location_latitude  \\\n",
       "0            22.745049             75.892471                   22.765049   \n",
       "\n",
       "   delivery_location_longitude order_date time_orderd time_order_picked  \\\n",
       "0                    75.912471 2022-03-19    11:30:00          11:45:00   \n",
       "\n",
       "  weatherconditions road_traffic_density  vehicle_condition type_of_order  \\\n",
       "0  conditions Sunny                High                   2        Snack    \n",
       "\n",
       "  type_of_vehicle multiple_deliveries festival    city  time_taken(min)  \n",
       "0     motorcycle                    0      No   Urban                24  "
      ]
     },
     "execution_count": 380,
     "metadata": {},
     "output_type": "execute_result"
    }
   ],
   "source": [
    "df1.head(1)"
   ]
  },
  {
   "cell_type": "code",
   "execution_count": 381,
   "metadata": {},
   "outputs": [
    {
     "data": {
      "text/plain": [
       "id                                     object\n",
       "delivery_person                        object\n",
       "delivery_person_age                     int64\n",
       "delivery_person_ratings               float64\n",
       "restaurant_latitude                   float64\n",
       "restaurant_longitude                  float64\n",
       "delivery_location_latitude            float64\n",
       "delivery_location_longitude           float64\n",
       "order_date                     datetime64[ns]\n",
       "time_orderd                            object\n",
       "time_order_picked                      object\n",
       "weatherconditions                      object\n",
       "road_traffic_density                   object\n",
       "vehicle_condition                       int64\n",
       "type_of_order                          object\n",
       "type_of_vehicle                        object\n",
       "multiple_deliveries                    object\n",
       "festival                               object\n",
       "city                                   object\n",
       "time_taken(min)                         int32\n",
       "dtype: object"
      ]
     },
     "execution_count": 381,
     "metadata": {},
     "output_type": "execute_result"
    }
   ],
   "source": [
    "df1.dtypes"
   ]
  },
  {
   "cell_type": "markdown",
   "metadata": {},
   "source": [
    "## 1.8 Descriptive Statistics"
   ]
  },
  {
   "cell_type": "code",
   "execution_count": 259,
   "metadata": {},
   "outputs": [],
   "source": [
    "numerical_data = get_numerical_attributes(df1)"
   ]
  },
  {
   "cell_type": "markdown",
   "metadata": {},
   "source": [
    "### 1.8.1 Numerical Data"
   ]
  },
  {
   "cell_type": "code",
   "execution_count": 260,
   "metadata": {},
   "outputs": [
    {
     "data": {
      "text/html": [
       "<div>\n",
       "<style scoped>\n",
       "    .dataframe tbody tr th:only-of-type {\n",
       "        vertical-align: middle;\n",
       "    }\n",
       "\n",
       "    .dataframe tbody tr th {\n",
       "        vertical-align: top;\n",
       "    }\n",
       "\n",
       "    .dataframe thead th {\n",
       "        text-align: right;\n",
       "    }\n",
       "</style>\n",
       "<table border=\"1\" class=\"dataframe\">\n",
       "  <thead>\n",
       "    <tr style=\"text-align: right;\">\n",
       "      <th></th>\n",
       "      <th>attributes</th>\n",
       "      <th>min</th>\n",
       "      <th>max</th>\n",
       "      <th>range</th>\n",
       "      <th>mean</th>\n",
       "      <th>median</th>\n",
       "      <th>std</th>\n",
       "      <th>skew</th>\n",
       "      <th>kurtosis</th>\n",
       "    </tr>\n",
       "  </thead>\n",
       "  <tbody>\n",
       "    <tr>\n",
       "      <th>0</th>\n",
       "      <td>restaurant_latitude</td>\n",
       "      <td>-30.905562</td>\n",
       "      <td>30.914057</td>\n",
       "      <td>61.819619</td>\n",
       "      <td>17.017729</td>\n",
       "      <td>18.546947</td>\n",
       "      <td>8.185019</td>\n",
       "      <td>-1.361583</td>\n",
       "      <td>3.713716</td>\n",
       "    </tr>\n",
       "    <tr>\n",
       "      <th>1</th>\n",
       "      <td>restaurant_longitude</td>\n",
       "      <td>-88.366217</td>\n",
       "      <td>88.433452</td>\n",
       "      <td>176.799669</td>\n",
       "      <td>70.231332</td>\n",
       "      <td>75.898497</td>\n",
       "      <td>22.883396</td>\n",
       "      <td>-3.220159</td>\n",
       "      <td>10.303039</td>\n",
       "    </tr>\n",
       "    <tr>\n",
       "      <th>2</th>\n",
       "      <td>delivery_location_latitude</td>\n",
       "      <td>0.010000</td>\n",
       "      <td>31.054057</td>\n",
       "      <td>31.044057</td>\n",
       "      <td>17.465186</td>\n",
       "      <td>18.633934</td>\n",
       "      <td>7.335042</td>\n",
       "      <td>-0.701066</td>\n",
       "      <td>0.264346</td>\n",
       "    </tr>\n",
       "    <tr>\n",
       "      <th>3</th>\n",
       "      <td>delivery_location_longitude</td>\n",
       "      <td>0.010000</td>\n",
       "      <td>88.563452</td>\n",
       "      <td>88.553452</td>\n",
       "      <td>70.845702</td>\n",
       "      <td>76.002574</td>\n",
       "      <td>21.118580</td>\n",
       "      <td>-2.956385</td>\n",
       "      <td>7.104451</td>\n",
       "    </tr>\n",
       "    <tr>\n",
       "      <th>4</th>\n",
       "      <td>vehicle_condition</td>\n",
       "      <td>0.000000</td>\n",
       "      <td>3.000000</td>\n",
       "      <td>3.000000</td>\n",
       "      <td>1.023359</td>\n",
       "      <td>1.000000</td>\n",
       "      <td>0.839056</td>\n",
       "      <td>0.071853</td>\n",
       "      <td>-1.315002</td>\n",
       "    </tr>\n",
       "  </tbody>\n",
       "</table>\n",
       "</div>"
      ],
      "text/plain": [
       "                    attributes        min        max       range       mean  \\\n",
       "0          restaurant_latitude -30.905562  30.914057   61.819619  17.017729   \n",
       "1         restaurant_longitude -88.366217  88.433452  176.799669  70.231332   \n",
       "2   delivery_location_latitude   0.010000  31.054057   31.044057  17.465186   \n",
       "3  delivery_location_longitude   0.010000  88.563452   88.553452  70.845702   \n",
       "4            vehicle_condition   0.000000   3.000000    3.000000   1.023359   \n",
       "\n",
       "      median        std      skew   kurtosis  \n",
       "0  18.546947   8.185019 -1.361583   3.713716  \n",
       "1  75.898497  22.883396 -3.220159  10.303039  \n",
       "2  18.633934   7.335042 -0.701066   0.264346  \n",
       "3  76.002574  21.118580 -2.956385   7.104451  \n",
       "4   1.000000   0.839056  0.071853  -1.315002  "
      ]
     },
     "execution_count": 260,
     "metadata": {},
     "output_type": "execute_result"
    }
   ],
   "source": [
    "get_first_order_statistics(numerical_data)"
   ]
  },
  {
   "cell_type": "markdown",
   "metadata": {},
   "source": [
    "# 2. Answers"
   ]
  },
  {
   "cell_type": "code",
   "execution_count": 16,
   "metadata": {},
   "outputs": [
    {
     "data": {
      "text/html": [
       "<div>\n",
       "<style scoped>\n",
       "    .dataframe tbody tr th:only-of-type {\n",
       "        vertical-align: middle;\n",
       "    }\n",
       "\n",
       "    .dataframe tbody tr th {\n",
       "        vertical-align: top;\n",
       "    }\n",
       "\n",
       "    .dataframe thead th {\n",
       "        text-align: right;\n",
       "    }\n",
       "</style>\n",
       "<table border=\"1\" class=\"dataframe\">\n",
       "  <thead>\n",
       "    <tr style=\"text-align: right;\">\n",
       "      <th></th>\n",
       "      <th>id</th>\n",
       "      <th>delivery_person</th>\n",
       "      <th>delivery_person_age</th>\n",
       "      <th>delivery_person_ratings</th>\n",
       "      <th>restaurant_latitude</th>\n",
       "      <th>restaurant_longitude</th>\n",
       "      <th>delivery_location_latitude</th>\n",
       "      <th>delivery_location_longitude</th>\n",
       "      <th>distance(km)</th>\n",
       "      <th>order_date</th>\n",
       "      <th>time_orderd</th>\n",
       "      <th>time_order_picked</th>\n",
       "      <th>week_of_year</th>\n",
       "      <th>weatherconditions</th>\n",
       "      <th>road_traffic_density</th>\n",
       "      <th>vehicle_condition</th>\n",
       "      <th>type_of_order</th>\n",
       "      <th>type_of_vehicle</th>\n",
       "      <th>multiple_deliveries</th>\n",
       "      <th>festival</th>\n",
       "      <th>city</th>\n",
       "      <th>time_taken(min)</th>\n",
       "    </tr>\n",
       "  </thead>\n",
       "  <tbody>\n",
       "    <tr>\n",
       "      <th>0</th>\n",
       "      <td>0x4607</td>\n",
       "      <td>INDORES13DEL02</td>\n",
       "      <td>37</td>\n",
       "      <td>4.9</td>\n",
       "      <td>22.745049</td>\n",
       "      <td>75.892471</td>\n",
       "      <td>22.765049</td>\n",
       "      <td>75.912471</td>\n",
       "      <td>3.025153</td>\n",
       "      <td>2022-03-19</td>\n",
       "      <td>11:30:00</td>\n",
       "      <td>11:45:00</td>\n",
       "      <td>11</td>\n",
       "      <td>conditions Sunny</td>\n",
       "      <td>High</td>\n",
       "      <td>2</td>\n",
       "      <td>Snack</td>\n",
       "      <td>motorcycle</td>\n",
       "      <td>0</td>\n",
       "      <td>No</td>\n",
       "      <td>Urban</td>\n",
       "      <td>24</td>\n",
       "    </tr>\n",
       "  </tbody>\n",
       "</table>\n",
       "</div>"
      ],
      "text/plain": [
       "       id delivery_person  delivery_person_age  delivery_person_ratings  \\\n",
       "0  0x4607  INDORES13DEL02                   37                      4.9   \n",
       "\n",
       "   restaurant_latitude  restaurant_longitude  delivery_location_latitude  \\\n",
       "0            22.745049             75.892471                   22.765049   \n",
       "\n",
       "   delivery_location_longitude  distance(km) order_date time_orderd  \\\n",
       "0                    75.912471      3.025153 2022-03-19    11:30:00   \n",
       "\n",
       "  time_order_picked week_of_year weatherconditions road_traffic_density  \\\n",
       "0          11:45:00           11  conditions Sunny                 High   \n",
       "\n",
       "   vehicle_condition type_of_order type_of_vehicle multiple_deliveries  \\\n",
       "0                  2         Snack      motorcycle                   0   \n",
       "\n",
       "  festival   city  time_taken(min)  \n",
       "0       No  Urban               24  "
      ]
     },
     "execution_count": 16,
     "metadata": {},
     "output_type": "execute_result"
    }
   ],
   "source": [
    "df2 = process_data(RAW_DATA_PATH)\n",
    "df2.head(1)"
   ]
  },
  {
   "cell_type": "markdown",
   "metadata": {},
   "source": [
    "## Do lado da empresa:"
   ]
  },
  {
   "cell_type": "markdown",
   "metadata": {},
   "source": [
    "### 1. Quantidade de pedidos por dia."
   ]
  },
  {
   "cell_type": "code",
   "execution_count": 360,
   "metadata": {},
   "outputs": [
    {
     "data": {
      "text/html": [
       "<div>\n",
       "<style scoped>\n",
       "    .dataframe tbody tr th:only-of-type {\n",
       "        vertical-align: middle;\n",
       "    }\n",
       "\n",
       "    .dataframe tbody tr th {\n",
       "        vertical-align: top;\n",
       "    }\n",
       "\n",
       "    .dataframe thead th {\n",
       "        text-align: right;\n",
       "    }\n",
       "</style>\n",
       "<table border=\"1\" class=\"dataframe\">\n",
       "  <thead>\n",
       "    <tr style=\"text-align: right;\">\n",
       "      <th></th>\n",
       "      <th>order_date</th>\n",
       "      <th>id</th>\n",
       "    </tr>\n",
       "  </thead>\n",
       "  <tbody>\n",
       "    <tr>\n",
       "      <th>0</th>\n",
       "      <td>2022-02-11</td>\n",
       "      <td>895</td>\n",
       "    </tr>\n",
       "    <tr>\n",
       "      <th>1</th>\n",
       "      <td>2022-02-12</td>\n",
       "      <td>788</td>\n",
       "    </tr>\n",
       "    <tr>\n",
       "      <th>2</th>\n",
       "      <td>2022-02-13</td>\n",
       "      <td>859</td>\n",
       "    </tr>\n",
       "    <tr>\n",
       "      <th>3</th>\n",
       "      <td>2022-02-14</td>\n",
       "      <td>782</td>\n",
       "    </tr>\n",
       "    <tr>\n",
       "      <th>4</th>\n",
       "      <td>2022-02-15</td>\n",
       "      <td>851</td>\n",
       "    </tr>\n",
       "    <tr>\n",
       "      <th>5</th>\n",
       "      <td>2022-02-16</td>\n",
       "      <td>786</td>\n",
       "    </tr>\n",
       "    <tr>\n",
       "      <th>6</th>\n",
       "      <td>2022-02-17</td>\n",
       "      <td>847</td>\n",
       "    </tr>\n",
       "    <tr>\n",
       "      <th>7</th>\n",
       "      <td>2022-02-18</td>\n",
       "      <td>777</td>\n",
       "    </tr>\n",
       "    <tr>\n",
       "      <th>8</th>\n",
       "      <td>2022-03-01</td>\n",
       "      <td>1026</td>\n",
       "    </tr>\n",
       "    <tr>\n",
       "      <th>9</th>\n",
       "      <td>2022-03-02</td>\n",
       "      <td>925</td>\n",
       "    </tr>\n",
       "    <tr>\n",
       "      <th>10</th>\n",
       "      <td>2022-03-03</td>\n",
       "      <td>1059</td>\n",
       "    </tr>\n",
       "    <tr>\n",
       "      <th>11</th>\n",
       "      <td>2022-03-04</td>\n",
       "      <td>899</td>\n",
       "    </tr>\n",
       "    <tr>\n",
       "      <th>12</th>\n",
       "      <td>2022-03-05</td>\n",
       "      <td>1038</td>\n",
       "    </tr>\n",
       "    <tr>\n",
       "      <th>13</th>\n",
       "      <td>2022-03-06</td>\n",
       "      <td>911</td>\n",
       "    </tr>\n",
       "    <tr>\n",
       "      <th>14</th>\n",
       "      <td>2022-03-07</td>\n",
       "      <td>1037</td>\n",
       "    </tr>\n",
       "    <tr>\n",
       "      <th>15</th>\n",
       "      <td>2022-03-08</td>\n",
       "      <td>888</td>\n",
       "    </tr>\n",
       "    <tr>\n",
       "      <th>16</th>\n",
       "      <td>2022-03-09</td>\n",
       "      <td>1056</td>\n",
       "    </tr>\n",
       "    <tr>\n",
       "      <th>17</th>\n",
       "      <td>2022-03-10</td>\n",
       "      <td>909</td>\n",
       "    </tr>\n",
       "    <tr>\n",
       "      <th>18</th>\n",
       "      <td>2022-03-11</td>\n",
       "      <td>1020</td>\n",
       "    </tr>\n",
       "    <tr>\n",
       "      <th>19</th>\n",
       "      <td>2022-03-12</td>\n",
       "      <td>879</td>\n",
       "    </tr>\n",
       "    <tr>\n",
       "      <th>20</th>\n",
       "      <td>2022-03-13</td>\n",
       "      <td>1044</td>\n",
       "    </tr>\n",
       "    <tr>\n",
       "      <th>21</th>\n",
       "      <td>2022-03-14</td>\n",
       "      <td>880</td>\n",
       "    </tr>\n",
       "    <tr>\n",
       "      <th>22</th>\n",
       "      <td>2022-03-15</td>\n",
       "      <td>1068</td>\n",
       "    </tr>\n",
       "    <tr>\n",
       "      <th>23</th>\n",
       "      <td>2022-03-16</td>\n",
       "      <td>916</td>\n",
       "    </tr>\n",
       "    <tr>\n",
       "      <th>24</th>\n",
       "      <td>2022-03-17</td>\n",
       "      <td>1013</td>\n",
       "    </tr>\n",
       "    <tr>\n",
       "      <th>25</th>\n",
       "      <td>2022-03-18</td>\n",
       "      <td>887</td>\n",
       "    </tr>\n",
       "    <tr>\n",
       "      <th>26</th>\n",
       "      <td>2022-03-19</td>\n",
       "      <td>1036</td>\n",
       "    </tr>\n",
       "    <tr>\n",
       "      <th>27</th>\n",
       "      <td>2022-03-20</td>\n",
       "      <td>904</td>\n",
       "    </tr>\n",
       "    <tr>\n",
       "      <th>28</th>\n",
       "      <td>2022-03-21</td>\n",
       "      <td>1043</td>\n",
       "    </tr>\n",
       "    <tr>\n",
       "      <th>29</th>\n",
       "      <td>2022-03-23</td>\n",
       "      <td>892</td>\n",
       "    </tr>\n",
       "    <tr>\n",
       "      <th>30</th>\n",
       "      <td>2022-03-24</td>\n",
       "      <td>1035</td>\n",
       "    </tr>\n",
       "    <tr>\n",
       "      <th>31</th>\n",
       "      <td>2022-03-25</td>\n",
       "      <td>888</td>\n",
       "    </tr>\n",
       "    <tr>\n",
       "      <th>32</th>\n",
       "      <td>2022-03-26</td>\n",
       "      <td>1044</td>\n",
       "    </tr>\n",
       "    <tr>\n",
       "      <th>33</th>\n",
       "      <td>2022-03-27</td>\n",
       "      <td>883</td>\n",
       "    </tr>\n",
       "    <tr>\n",
       "      <th>34</th>\n",
       "      <td>2022-03-28</td>\n",
       "      <td>1028</td>\n",
       "    </tr>\n",
       "    <tr>\n",
       "      <th>35</th>\n",
       "      <td>2022-03-29</td>\n",
       "      <td>902</td>\n",
       "    </tr>\n",
       "    <tr>\n",
       "      <th>36</th>\n",
       "      <td>2022-03-30</td>\n",
       "      <td>1018</td>\n",
       "    </tr>\n",
       "    <tr>\n",
       "      <th>37</th>\n",
       "      <td>2022-03-31</td>\n",
       "      <td>888</td>\n",
       "    </tr>\n",
       "    <tr>\n",
       "      <th>38</th>\n",
       "      <td>2022-04-01</td>\n",
       "      <td>1034</td>\n",
       "    </tr>\n",
       "    <tr>\n",
       "      <th>39</th>\n",
       "      <td>2022-04-02</td>\n",
       "      <td>904</td>\n",
       "    </tr>\n",
       "    <tr>\n",
       "      <th>40</th>\n",
       "      <td>2022-04-03</td>\n",
       "      <td>1057</td>\n",
       "    </tr>\n",
       "    <tr>\n",
       "      <th>41</th>\n",
       "      <td>2022-04-04</td>\n",
       "      <td>858</td>\n",
       "    </tr>\n",
       "    <tr>\n",
       "      <th>42</th>\n",
       "      <td>2022-04-05</td>\n",
       "      <td>1041</td>\n",
       "    </tr>\n",
       "    <tr>\n",
       "      <th>43</th>\n",
       "      <td>2022-04-06</td>\n",
       "      <td>873</td>\n",
       "    </tr>\n",
       "  </tbody>\n",
       "</table>\n",
       "</div>"
      ],
      "text/plain": [
       "    order_date    id\n",
       "0   2022-02-11   895\n",
       "1   2022-02-12   788\n",
       "2   2022-02-13   859\n",
       "3   2022-02-14   782\n",
       "4   2022-02-15   851\n",
       "5   2022-02-16   786\n",
       "6   2022-02-17   847\n",
       "7   2022-02-18   777\n",
       "8   2022-03-01  1026\n",
       "9   2022-03-02   925\n",
       "10  2022-03-03  1059\n",
       "11  2022-03-04   899\n",
       "12  2022-03-05  1038\n",
       "13  2022-03-06   911\n",
       "14  2022-03-07  1037\n",
       "15  2022-03-08   888\n",
       "16  2022-03-09  1056\n",
       "17  2022-03-10   909\n",
       "18  2022-03-11  1020\n",
       "19  2022-03-12   879\n",
       "20  2022-03-13  1044\n",
       "21  2022-03-14   880\n",
       "22  2022-03-15  1068\n",
       "23  2022-03-16   916\n",
       "24  2022-03-17  1013\n",
       "25  2022-03-18   887\n",
       "26  2022-03-19  1036\n",
       "27  2022-03-20   904\n",
       "28  2022-03-21  1043\n",
       "29  2022-03-23   892\n",
       "30  2022-03-24  1035\n",
       "31  2022-03-25   888\n",
       "32  2022-03-26  1044\n",
       "33  2022-03-27   883\n",
       "34  2022-03-28  1028\n",
       "35  2022-03-29   902\n",
       "36  2022-03-30  1018\n",
       "37  2022-03-31   888\n",
       "38  2022-04-01  1034\n",
       "39  2022-04-02   904\n",
       "40  2022-04-03  1057\n",
       "41  2022-04-04   858\n",
       "42  2022-04-05  1041\n",
       "43  2022-04-06   873"
      ]
     },
     "execution_count": 360,
     "metadata": {},
     "output_type": "execute_result"
    }
   ],
   "source": [
    "df2.groupby(df2['order_date'].dt.date)['id'].count().reset_index()"
   ]
  },
  {
   "cell_type": "markdown",
   "metadata": {},
   "source": [
    "### 2. Quantidade de pedidos por semana."
   ]
  },
  {
   "cell_type": "code",
   "execution_count": 361,
   "metadata": {},
   "outputs": [
    {
     "data": {
      "text/html": [
       "<div>\n",
       "<style scoped>\n",
       "    .dataframe tbody tr th:only-of-type {\n",
       "        vertical-align: middle;\n",
       "    }\n",
       "\n",
       "    .dataframe tbody tr th {\n",
       "        vertical-align: top;\n",
       "    }\n",
       "\n",
       "    .dataframe thead th {\n",
       "        text-align: right;\n",
       "    }\n",
       "</style>\n",
       "<table border=\"1\" class=\"dataframe\">\n",
       "  <thead>\n",
       "    <tr style=\"text-align: right;\">\n",
       "      <th></th>\n",
       "      <th>week_of_year</th>\n",
       "      <th>id</th>\n",
       "    </tr>\n",
       "  </thead>\n",
       "  <tbody>\n",
       "    <tr>\n",
       "      <th>0</th>\n",
       "      <td>06</td>\n",
       "      <td>1683</td>\n",
       "    </tr>\n",
       "    <tr>\n",
       "      <th>1</th>\n",
       "      <td>07</td>\n",
       "      <td>4902</td>\n",
       "    </tr>\n",
       "    <tr>\n",
       "      <th>2</th>\n",
       "      <td>09</td>\n",
       "      <td>4947</td>\n",
       "    </tr>\n",
       "    <tr>\n",
       "      <th>3</th>\n",
       "      <td>10</td>\n",
       "      <td>6700</td>\n",
       "    </tr>\n",
       "    <tr>\n",
       "      <th>4</th>\n",
       "      <td>11</td>\n",
       "      <td>6844</td>\n",
       "    </tr>\n",
       "    <tr>\n",
       "      <th>5</th>\n",
       "      <td>12</td>\n",
       "      <td>5806</td>\n",
       "    </tr>\n",
       "    <tr>\n",
       "      <th>6</th>\n",
       "      <td>13</td>\n",
       "      <td>6657</td>\n",
       "    </tr>\n",
       "    <tr>\n",
       "      <th>7</th>\n",
       "      <td>14</td>\n",
       "      <td>3829</td>\n",
       "    </tr>\n",
       "  </tbody>\n",
       "</table>\n",
       "</div>"
      ],
      "text/plain": [
       "  week_of_year    id\n",
       "0           06  1683\n",
       "1           07  4902\n",
       "2           09  4947\n",
       "3           10  6700\n",
       "4           11  6844\n",
       "5           12  5806\n",
       "6           13  6657\n",
       "7           14  3829"
      ]
     },
     "execution_count": 361,
     "metadata": {},
     "output_type": "execute_result"
    }
   ],
   "source": [
    "df_aux = df2.loc[:, [\"id\", \"week_of_year\"]].groupby(\"week_of_year\").count().reset_index()\n",
    "df_aux"
   ]
  },
  {
   "cell_type": "code",
   "execution_count": 362,
   "metadata": {},
   "outputs": [
    {
     "data": {
      "image/png": "[encoded data removed]",
      "text/plain": [
       "<Figure size 640x480 with 1 Axes>"
      ]
     },
     "metadata": {},
     "output_type": "display_data"
    }
   ],
   "source": [
    "sns.set_theme(style=\"darkgrid\", palette=\"flare\")\n",
    "sns.lineplot(data=df_aux, x=\"week_of_year\", y=\"id\")\n",
    "plt.show()"
   ]
  },
  {
   "cell_type": "markdown",
   "metadata": {},
   "source": [
    "### 3. Distribuição dos pedidos por tipo de tráfego."
   ]
  },
  {
   "cell_type": "code",
   "execution_count": 363,
   "metadata": {},
   "outputs": [
    {
     "data": {
      "text/html": [
       "<div>\n",
       "<style scoped>\n",
       "    .dataframe tbody tr th:only-of-type {\n",
       "        vertical-align: middle;\n",
       "    }\n",
       "\n",
       "    .dataframe tbody tr th {\n",
       "        vertical-align: top;\n",
       "    }\n",
       "\n",
       "    .dataframe thead th {\n",
       "        text-align: right;\n",
       "    }\n",
       "</style>\n",
       "<table border=\"1\" class=\"dataframe\">\n",
       "  <thead>\n",
       "    <tr style=\"text-align: right;\">\n",
       "      <th></th>\n",
       "      <th>road_traffic_density</th>\n",
       "      <th>id</th>\n",
       "      <th>entregas_perc</th>\n",
       "    </tr>\n",
       "  </thead>\n",
       "  <tbody>\n",
       "    <tr>\n",
       "      <th>0</th>\n",
       "      <td>High</td>\n",
       "      <td>4103</td>\n",
       "      <td>0.099183</td>\n",
       "    </tr>\n",
       "    <tr>\n",
       "      <th>1</th>\n",
       "      <td>Jam</td>\n",
       "      <td>13159</td>\n",
       "      <td>0.318096</td>\n",
       "    </tr>\n",
       "    <tr>\n",
       "      <th>2</th>\n",
       "      <td>Low</td>\n",
       "      <td>13981</td>\n",
       "      <td>0.337967</td>\n",
       "    </tr>\n",
       "    <tr>\n",
       "      <th>3</th>\n",
       "      <td>Medium</td>\n",
       "      <td>10125</td>\n",
       "      <td>0.244754</td>\n",
       "    </tr>\n",
       "  </tbody>\n",
       "</table>\n",
       "</div>"
      ],
      "text/plain": [
       "  road_traffic_density     id  entregas_perc\n",
       "0                High    4103       0.099183\n",
       "1                 Jam   13159       0.318096\n",
       "2                 Low   13981       0.337967\n",
       "3              Medium   10125       0.244754"
      ]
     },
     "execution_count": 363,
     "metadata": {},
     "output_type": "execute_result"
    }
   ],
   "source": [
    "df_aux = df2.groupby(\"road_traffic_density\")[\"id\"].count().reset_index()\n",
    "df_aux[\"entregas_perc\"] = df_aux[\"id\"] / df_aux[\"id\"].sum()\n",
    "df_aux"
   ]
  },
  {
   "cell_type": "code",
   "execution_count": 364,
   "metadata": {},
   "outputs": [
    {
     "data": {
      "application/vnd.plotly.v1+json": {
       "config": {
        "plotlyServerURL": "https://plot.ly"
       },
       "data": [
        {
         "domain": {
          "x": [
           0,
           1
          ],
          "y": [
           0,
           1
          ]
         },
         "hovertemplate": "road_traffic_density=%{label}<br>entregas_perc=%{value}<extra></extra>",
         "labels": [
          "High ",
          "Jam ",
          "Low ",
          "Medium "
         ],
         "legendgroup": "",
         "name": "",
         "showlegend": true,
         "type": "pie",
         "values": [
          0.09918294333784568,
          0.31809611293753626,
          0.33796654418874494,
          0.24475439953587314
         ]
        }
       ],
       "layout": {
        "legend": {
         "tracegroupgap": 0
        },
        "piecolorway": [
         "rgb(247,251,255)",
         "rgb(222,235,247)",
         "rgb(198,219,239)",
         "rgb(158,202,225)",
         "rgb(107,174,214)",
         "rgb(66,146,198)",
         "rgb(33,113,181)",
         "rgb(8,81,156)",
         "rgb(8,48,107)"
        ],
        "template": {
         "data": {
          "candlestick": [
           {
            "decreasing": {
             "line": {
              "color": "#000033"
             }
            },
            "increasing": {
             "line": {
              "color": "#000032"
             }
            },
            "type": "candlestick"
           }
          ],
          "contour": [
           {
            "colorscale": [
             [
              0,
              "#000011"
             ],
             [
              0.1111111111111111,
              "#000012"
             ],
             [
              0.2222222222222222,
              "#000013"
             ],
             [
              0.3333333333333333,
              "#000014"
             ],
             [
              0.4444444444444444,
              "#000015"
             ],
             [
              0.5555555555555556,
              "#000016"
             ],
             [
              0.6666666666666666,
              "#000017"
             ],
             [
              0.7777777777777778,
              "#000018"
             ],
             [
              0.8888888888888888,
              "#000019"
             ],
             [
              1,
              "#000020"
             ]
            ],
            "type": "contour"
           }
          ],
          "contourcarpet": [
           {
            "colorscale": [
             [
              0,
              "#000011"
             ],
             [
              0.1111111111111111,
              "#000012"
             ],
             [
              0.2222222222222222,
              "#000013"
             ],
             [
              0.3333333333333333,
              "#000014"
             ],
             [
              0.4444444444444444,
              "#000015"
             ],
             [
              0.5555555555555556,
              "#000016"
             ],
             [
              0.6666666666666666,
              "#000017"
             ],
             [
              0.7777777777777778,
              "#000018"
             ],
             [
              0.8888888888888888,
              "#000019"
             ],
             [
              1,
              "#000020"
             ]
            ],
            "type": "contourcarpet"
           }
          ],
          "heatmap": [
           {
            "colorscale": [
             [
              0,
              "#000011"
             ],
             [
              0.1111111111111111,
              "#000012"
             ],
             [
              0.2222222222222222,
              "#000013"
             ],
             [
              0.3333333333333333,
              "#000014"
             ],
             [
              0.4444444444444444,
              "#000015"
             ],
             [
              0.5555555555555556,
              "#000016"
             ],
             [
              0.6666666666666666,
              "#000017"
             ],
             [
              0.7777777777777778,
              "#000018"
             ],
             [
              0.8888888888888888,
              "#000019"
             ],
             [
              1,
              "#000020"
             ]
            ],
            "type": "heatmap"
           }
          ],
          "histogram2d": [
           {
            "colorscale": [
             [
              0,
              "#000011"
             ],
             [
              0.1111111111111111,
              "#000012"
             ],
             [
              0.2222222222222222,
              "#000013"
             ],
             [
              0.3333333333333333,
              "#000014"
             ],
             [
              0.4444444444444444,
              "#000015"
             ],
             [
              0.5555555555555556,
              "#000016"
             ],
             [
              0.6666666666666666,
              "#000017"
             ],
             [
              0.7777777777777778,
              "#000018"
             ],
             [
              0.8888888888888888,
              "#000019"
             ],
             [
              1,
              "#000020"
             ]
            ],
            "type": "histogram2d"
           }
          ],
          "icicle": [
           {
            "textfont": {
             "color": "white"
            },
            "type": "icicle"
           }
          ],
          "sankey": [
           {
            "textfont": {
             "color": "#000036"
            },
            "type": "sankey"
           }
          ],
          "scatter": [
           {
            "marker": {
             "line": {
              "width": 0
             }
            },
            "type": "scatter"
           }
          ],
          "table": [
           {
            "cells": {
             "fill": {
              "color": "#000038"
             },
             "font": {
              "color": "#000037"
             },
             "line": {
              "color": "#000039"
             }
            },
            "header": {
             "fill": {
              "color": "#000040"
             },
             "font": {
              "color": "#000036"
             },
             "line": {
              "color": "#000039"
             }
            },
            "type": "table"
           }
          ],
          "waterfall": [
           {
            "connector": {
             "line": {
              "color": "#000036",
              "width": 2
             }
            },
            "decreasing": {
             "marker": {
              "color": "#000033"
             }
            },
            "increasing": {
             "marker": {
              "color": "#000032"
             }
            },
            "totals": {
             "marker": {
              "color": "#000034"
             }
            },
            "type": "waterfall"
           }
          ]
         },
         "layout": {
          "coloraxis": {
           "colorscale": [
            [
             0,
             "#000011"
            ],
            [
             0.1111111111111111,
             "#000012"
            ],
            [
             0.2222222222222222,
             "#000013"
            ],
            [
             0.3333333333333333,
             "#000014"
            ],
            [
             0.4444444444444444,
             "#000015"
            ],
            [
             0.5555555555555556,
             "#000016"
            ],
            [
             0.6666666666666666,
             "#000017"
            ],
            [
             0.7777777777777778,
             "#000018"
            ],
            [
             0.8888888888888888,
             "#000019"
            ],
            [
             1,
             "#000020"
            ]
           ]
          },
          "colorscale": {
           "diverging": [
            [
             0,
             "#000021"
            ],
            [
             0.1,
             "#000022"
            ],
            [
             0.2,
             "#000023"
            ],
            [
             0.3,
             "#000024"
            ],
            [
             0.4,
             "#000025"
            ],
            [
             0.5,
             "#000026"
            ],
            [
             0.6,
             "#000027"
            ],
            [
             0.7,
             "#000028"
            ],
            [
             0.8,
             "#000029"
            ],
            [
             0.9,
             "#000030"
            ],
            [
             1,
             "#000031"
            ]
           ],
           "sequential": [
            [
             0,
             "#000011"
            ],
            [
             0.1111111111111111,
             "#000012"
            ],
            [
             0.2222222222222222,
             "#000013"
            ],
            [
             0.3333333333333333,
             "#000014"
            ],
            [
             0.4444444444444444,
             "#000015"
            ],
            [
             0.5555555555555556,
             "#000016"
            ],
            [
             0.6666666666666666,
             "#000017"
            ],
            [
             0.7777777777777778,
             "#000018"
            ],
            [
             0.8888888888888888,
             "#000019"
            ],
            [
             1,
             "#000020"
            ]
           ],
           "sequentialminus": [
            [
             0,
             "#000011"
            ],
            [
             0.1111111111111111,
             "#000012"
            ],
            [
             0.2222222222222222,
             "#000013"
            ],
            [
             0.3333333333333333,
             "#000014"
            ],
            [
             0.4444444444444444,
             "#000015"
            ],
            [
             0.5555555555555556,
             "#000016"
            ],
            [
             0.6666666666666666,
             "#000017"
            ],
            [
             0.7777777777777778,
             "#000018"
            ],
            [
             0.8888888888888888,
             "#000019"
            ],
            [
             1,
             "#000020"
            ]
           ]
          },
          "colorway": [
           "#000001",
           "#000002",
           "#000003",
           "#000004",
           "#000005",
           "#000006",
           "#000007",
           "#000008",
           "#000009",
           "#000010"
          ]
         }
        },
        "title": {
         "text": "Traffic Order Share"
        }
       }
      }
     },
     "metadata": {},
     "output_type": "display_data"
    }
   ],
   "source": [
    "fig = px.pie(df_aux, \n",
    "             values=\"entregas_perc\", names=\"road_traffic_density\",\n",
    "             title=\"Traffic Order Share\",\n",
    "             color_discrete_sequence=px.colors.sequential.Blues\n",
    "             )\n",
    "fig.show()\n"
   ]
  },
  {
   "cell_type": "markdown",
   "metadata": {},
   "source": [
    "### 4. Comparação do volume de pedidos por cidade e tipo de tráfego."
   ]
  },
  {
   "cell_type": "code",
   "execution_count": 365,
   "metadata": {},
   "outputs": [
    {
     "data": {
      "text/html": [
       "<div>\n",
       "<style scoped>\n",
       "    .dataframe tbody tr th:only-of-type {\n",
       "        vertical-align: middle;\n",
       "    }\n",
       "\n",
       "    .dataframe tbody tr th {\n",
       "        vertical-align: top;\n",
       "    }\n",
       "\n",
       "    .dataframe thead th {\n",
       "        text-align: right;\n",
       "    }\n",
       "</style>\n",
       "<table border=\"1\" class=\"dataframe\">\n",
       "  <thead>\n",
       "    <tr style=\"text-align: right;\">\n",
       "      <th></th>\n",
       "      <th>city</th>\n",
       "      <th>road_traffic_density</th>\n",
       "      <th>orders</th>\n",
       "    </tr>\n",
       "  </thead>\n",
       "  <tbody>\n",
       "    <tr>\n",
       "      <th>0</th>\n",
       "      <td>Metropolitian</td>\n",
       "      <td>High</td>\n",
       "      <td>3206</td>\n",
       "    </tr>\n",
       "    <tr>\n",
       "      <th>1</th>\n",
       "      <td>Metropolitian</td>\n",
       "      <td>Jam</td>\n",
       "      <td>10547</td>\n",
       "    </tr>\n",
       "    <tr>\n",
       "      <th>2</th>\n",
       "      <td>Metropolitian</td>\n",
       "      <td>Low</td>\n",
       "      <td>10178</td>\n",
       "    </tr>\n",
       "    <tr>\n",
       "      <th>3</th>\n",
       "      <td>Metropolitian</td>\n",
       "      <td>Medium</td>\n",
       "      <td>7891</td>\n",
       "    </tr>\n",
       "    <tr>\n",
       "      <th>4</th>\n",
       "      <td>Semi-Urban</td>\n",
       "      <td>High</td>\n",
       "      <td>16</td>\n",
       "    </tr>\n",
       "    <tr>\n",
       "      <th>5</th>\n",
       "      <td>Semi-Urban</td>\n",
       "      <td>Jam</td>\n",
       "      <td>126</td>\n",
       "    </tr>\n",
       "    <tr>\n",
       "      <th>6</th>\n",
       "      <td>Semi-Urban</td>\n",
       "      <td>Medium</td>\n",
       "      <td>10</td>\n",
       "    </tr>\n",
       "    <tr>\n",
       "      <th>7</th>\n",
       "      <td>Urban</td>\n",
       "      <td>High</td>\n",
       "      <td>881</td>\n",
       "    </tr>\n",
       "    <tr>\n",
       "      <th>8</th>\n",
       "      <td>Urban</td>\n",
       "      <td>Jam</td>\n",
       "      <td>2486</td>\n",
       "    </tr>\n",
       "    <tr>\n",
       "      <th>9</th>\n",
       "      <td>Urban</td>\n",
       "      <td>Low</td>\n",
       "      <td>3803</td>\n",
       "    </tr>\n",
       "    <tr>\n",
       "      <th>10</th>\n",
       "      <td>Urban</td>\n",
       "      <td>Medium</td>\n",
       "      <td>2224</td>\n",
       "    </tr>\n",
       "  </tbody>\n",
       "</table>\n",
       "</div>"
      ],
      "text/plain": [
       "              city road_traffic_density  orders\n",
       "0   Metropolitian                 High     3206\n",
       "1   Metropolitian                  Jam    10547\n",
       "2   Metropolitian                  Low    10178\n",
       "3   Metropolitian               Medium     7891\n",
       "4      Semi-Urban                 High       16\n",
       "5      Semi-Urban                  Jam      126\n",
       "6      Semi-Urban               Medium       10\n",
       "7           Urban                 High      881\n",
       "8           Urban                  Jam     2486\n",
       "9           Urban                  Low     3803\n",
       "10          Urban               Medium     2224"
      ]
     },
     "execution_count": 365,
     "metadata": {},
     "output_type": "execute_result"
    }
   ],
   "source": [
    "df_aux = df2.groupby([\"city\", \"road_traffic_density\"]).size().reset_index(name=\"orders\")\n",
    "df_aux"
   ]
  },
  {
   "cell_type": "code",
   "execution_count": 268,
   "metadata": {},
   "outputs": [
    {
     "data": {
      "application/vnd.plotly.v1+json": {
       "config": {
        "plotlyServerURL": "https://plot.ly"
       },
       "data": [
        {
         "hovertemplate": "city=%{x}<br>road_traffic_density=%{y}<br>orders=%{marker.size}<extra></extra>",
         "legendgroup": "Metropolitian ",
         "marker": {
          "color": "rgb(228,26,28)",
          "size": [
           3206,
           10547,
           10178,
           7891
          ],
          "sizemode": "area",
          "sizeref": 26.3675,
          "symbol": "circle"
         },
         "mode": "markers",
         "name": "Metropolitian ",
         "orientation": "v",
         "showlegend": true,
         "type": "scatter",
         "x": [
          "Metropolitian ",
          "Metropolitian ",
          "Metropolitian ",
          "Metropolitian "
         ],
         "xaxis": "x",
         "y": [
          "High ",
          "Jam ",
          "Low ",
          "Medium "
         ],
         "yaxis": "y"
        },
        {
         "hovertemplate": "city=%{x}<br>road_traffic_density=%{y}<br>orders=%{marker.size}<extra></extra>",
         "legendgroup": "Semi-Urban ",
         "marker": {
          "color": "rgb(55,126,184)",
          "size": [
           16,
           126,
           10
          ],
          "sizemode": "area",
          "sizeref": 26.3675,
          "symbol": "circle"
         },
         "mode": "markers",
         "name": "Semi-Urban ",
         "orientation": "v",
         "showlegend": true,
         "type": "scatter",
         "x": [
          "Semi-Urban ",
          "Semi-Urban ",
          "Semi-Urban "
         ],
         "xaxis": "x",
         "y": [
          "High ",
          "Jam ",
          "Medium "
         ],
         "yaxis": "y"
        },
        {
         "hovertemplate": "city=%{x}<br>road_traffic_density=%{y}<br>orders=%{marker.size}<extra></extra>",
         "legendgroup": "Urban ",
         "marker": {
          "color": "rgb(77,175,74)",
          "size": [
           881,
           2486,
           3803,
           2224
          ],
          "sizemode": "area",
          "sizeref": 26.3675,
          "symbol": "circle"
         },
         "mode": "markers",
         "name": "Urban ",
         "orientation": "v",
         "showlegend": true,
         "type": "scatter",
         "x": [
          "Urban ",
          "Urban ",
          "Urban ",
          "Urban "
         ],
         "xaxis": "x",
         "y": [
          "High ",
          "Jam ",
          "Low ",
          "Medium "
         ],
         "yaxis": "y"
        }
       ],
       "layout": {
        "legend": {
         "itemsizing": "constant",
         "title": {
          "text": "city"
         },
         "tracegroupgap": 0
        },
        "margin": {
         "t": 60
        },
        "template": {
         "data": {
          "candlestick": [
           {
            "decreasing": {
             "line": {
              "color": "#000033"
             }
            },
            "increasing": {
             "line": {
              "color": "#000032"
             }
            },
            "type": "candlestick"
           }
          ],
          "contour": [
           {
            "colorscale": [
             [
              0,
              "#000011"
             ],
             [
              0.1111111111111111,
              "#000012"
             ],
             [
              0.2222222222222222,
              "#000013"
             ],
             [
              0.3333333333333333,
              "#000014"
             ],
             [
              0.4444444444444444,
              "#000015"
             ],
             [
              0.5555555555555556,
              "#000016"
             ],
             [
              0.6666666666666666,
              "#000017"
             ],
             [
              0.7777777777777778,
              "#000018"
             ],
             [
              0.8888888888888888,
              "#000019"
             ],
             [
              1,
              "#000020"
             ]
            ],
            "type": "contour"
           }
          ],
          "contourcarpet": [
           {
            "colorscale": [
             [
              0,
              "#000011"
             ],
             [
              0.1111111111111111,
              "#000012"
             ],
             [
              0.2222222222222222,
              "#000013"
             ],
             [
              0.3333333333333333,
              "#000014"
             ],
             [
              0.4444444444444444,
              "#000015"
             ],
             [
              0.5555555555555556,
              "#000016"
             ],
             [
              0.6666666666666666,
              "#000017"
             ],
             [
              0.7777777777777778,
              "#000018"
             ],
             [
              0.8888888888888888,
              "#000019"
             ],
             [
              1,
              "#000020"
             ]
            ],
            "type": "contourcarpet"
           }
          ],
          "heatmap": [
           {
            "colorscale": [
             [
              0,
              "#000011"
             ],
             [
              0.1111111111111111,
              "#000012"
             ],
             [
              0.2222222222222222,
              "#000013"
             ],
             [
              0.3333333333333333,
              "#000014"
             ],
             [
              0.4444444444444444,
              "#000015"
             ],
             [
              0.5555555555555556,
              "#000016"
             ],
             [
              0.6666666666666666,
              "#000017"
             ],
             [
              0.7777777777777778,
              "#000018"
             ],
             [
              0.8888888888888888,
              "#000019"
             ],
             [
              1,
              "#000020"
             ]
            ],
            "type": "heatmap"
           }
          ],
          "histogram2d": [
           {
            "colorscale": [
             [
              0,
              "#000011"
             ],
             [
              0.1111111111111111,
              "#000012"
             ],
             [
              0.2222222222222222,
              "#000013"
             ],
             [
              0.3333333333333333,
              "#000014"
             ],
             [
              0.4444444444444444,
              "#000015"
             ],
             [
              0.5555555555555556,
              "#000016"
             ],
             [
              0.6666666666666666,
              "#000017"
             ],
             [
              0.7777777777777778,
              "#000018"
             ],
             [
              0.8888888888888888,
              "#000019"
             ],
             [
              1,
              "#000020"
             ]
            ],
            "type": "histogram2d"
           }
          ],
          "icicle": [
           {
            "textfont": {
             "color": "white"
            },
            "type": "icicle"
           }
          ],
          "sankey": [
           {
            "textfont": {
             "color": "#000036"
            },
            "type": "sankey"
           }
          ],
          "scatter": [
           {
            "marker": {
             "line": {
              "width": 0
             }
            },
            "type": "scatter"
           }
          ],
          "table": [
           {
            "cells": {
             "fill": {
              "color": "#000038"
             },
             "font": {
              "color": "#000037"
             },
             "line": {
              "color": "#000039"
             }
            },
            "header": {
             "fill": {
              "color": "#000040"
             },
             "font": {
              "color": "#000036"
             },
             "line": {
              "color": "#000039"
             }
            },
            "type": "table"
           }
          ],
          "waterfall": [
           {
            "connector": {
             "line": {
              "color": "#000036",
              "width": 2
             }
            },
            "decreasing": {
             "marker": {
              "color": "#000033"
             }
            },
            "increasing": {
             "marker": {
              "color": "#000032"
             }
            },
            "totals": {
             "marker": {
              "color": "#000034"
             }
            },
            "type": "waterfall"
           }
          ]
         },
         "layout": {
          "coloraxis": {
           "colorscale": [
            [
             0,
             "#000011"
            ],
            [
             0.1111111111111111,
             "#000012"
            ],
            [
             0.2222222222222222,
             "#000013"
            ],
            [
             0.3333333333333333,
             "#000014"
            ],
            [
             0.4444444444444444,
             "#000015"
            ],
            [
             0.5555555555555556,
             "#000016"
            ],
            [
             0.6666666666666666,
             "#000017"
            ],
            [
             0.7777777777777778,
             "#000018"
            ],
            [
             0.8888888888888888,
             "#000019"
            ],
            [
             1,
             "#000020"
            ]
           ]
          },
          "colorscale": {
           "diverging": [
            [
             0,
             "#000021"
            ],
            [
             0.1,
             "#000022"
            ],
            [
             0.2,
             "#000023"
            ],
            [
             0.3,
             "#000024"
            ],
            [
             0.4,
             "#000025"
            ],
            [
             0.5,
             "#000026"
            ],
            [
             0.6,
             "#000027"
            ],
            [
             0.7,
             "#000028"
            ],
            [
             0.8,
             "#000029"
            ],
            [
             0.9,
             "#000030"
            ],
            [
             1,
             "#000031"
            ]
           ],
           "sequential": [
            [
             0,
             "#000011"
            ],
            [
             0.1111111111111111,
             "#000012"
            ],
            [
             0.2222222222222222,
             "#000013"
            ],
            [
             0.3333333333333333,
             "#000014"
            ],
            [
             0.4444444444444444,
             "#000015"
            ],
            [
             0.5555555555555556,
             "#000016"
            ],
            [
             0.6666666666666666,
             "#000017"
            ],
            [
             0.7777777777777778,
             "#000018"
            ],
            [
             0.8888888888888888,
             "#000019"
            ],
            [
             1,
             "#000020"
            ]
           ],
           "sequentialminus": [
            [
             0,
             "#000011"
            ],
            [
             0.1111111111111111,
             "#000012"
            ],
            [
             0.2222222222222222,
             "#000013"
            ],
            [
             0.3333333333333333,
             "#000014"
            ],
            [
             0.4444444444444444,
             "#000015"
            ],
            [
             0.5555555555555556,
             "#000016"
            ],
            [
             0.6666666666666666,
             "#000017"
            ],
            [
             0.7777777777777778,
             "#000018"
            ],
            [
             0.8888888888888888,
             "#000019"
            ],
            [
             1,
             "#000020"
            ]
           ]
          },
          "colorway": [
           "#000001",
           "#000002",
           "#000003",
           "#000004",
           "#000005",
           "#000006",
           "#000007",
           "#000008",
           "#000009",
           "#000010"
          ]
         }
        },
        "xaxis": {
         "anchor": "y",
         "categoryarray": [
          "Metropolitian ",
          "Semi-Urban ",
          "Urban "
         ],
         "categoryorder": "array",
         "domain": [
          0,
          1
         ],
         "title": {
          "text": "city"
         }
        },
        "yaxis": {
         "anchor": "x",
         "domain": [
          0,
          1
         ],
         "title": {
          "text": "road_traffic_density"
         }
        }
       }
      }
     },
     "metadata": {},
     "output_type": "display_data"
    }
   ],
   "source": [
    "fig = px.scatter(df_aux,\n",
    "                 x = \"city\", y = \"road_traffic_density\", size = \"orders\", color = \"city\", color_discrete_sequence=px.colors.qualitative.Set1)\n",
    "fig.show()"
   ]
  },
  {
   "cell_type": "markdown",
   "metadata": {},
   "source": [
    "### 5. A quantidade de pedidos por entregador por semana."
   ]
  },
  {
   "cell_type": "code",
   "execution_count": 374,
   "metadata": {},
   "outputs": [
    {
     "data": {
      "text/html": [
       "<div>\n",
       "<style scoped>\n",
       "    .dataframe tbody tr th:only-of-type {\n",
       "        vertical-align: middle;\n",
       "    }\n",
       "\n",
       "    .dataframe tbody tr th {\n",
       "        vertical-align: top;\n",
       "    }\n",
       "\n",
       "    .dataframe thead th {\n",
       "        text-align: right;\n",
       "    }\n",
       "</style>\n",
       "<table border=\"1\" class=\"dataframe\">\n",
       "  <thead>\n",
       "    <tr style=\"text-align: right;\">\n",
       "      <th></th>\n",
       "      <th>week_of_year</th>\n",
       "      <th>id</th>\n",
       "      <th>delivery_person</th>\n",
       "      <th>order_by_deliver</th>\n",
       "    </tr>\n",
       "  </thead>\n",
       "  <tbody>\n",
       "    <tr>\n",
       "      <th>0</th>\n",
       "      <td>06</td>\n",
       "      <td>1683</td>\n",
       "      <td>598</td>\n",
       "      <td>2.814381</td>\n",
       "    </tr>\n",
       "    <tr>\n",
       "      <th>1</th>\n",
       "      <td>07</td>\n",
       "      <td>4902</td>\n",
       "      <td>600</td>\n",
       "      <td>8.170000</td>\n",
       "    </tr>\n",
       "    <tr>\n",
       "      <th>2</th>\n",
       "      <td>09</td>\n",
       "      <td>4947</td>\n",
       "      <td>720</td>\n",
       "      <td>6.870833</td>\n",
       "    </tr>\n",
       "    <tr>\n",
       "      <th>3</th>\n",
       "      <td>10</td>\n",
       "      <td>6700</td>\n",
       "      <td>720</td>\n",
       "      <td>9.305556</td>\n",
       "    </tr>\n",
       "    <tr>\n",
       "      <th>4</th>\n",
       "      <td>11</td>\n",
       "      <td>6844</td>\n",
       "      <td>720</td>\n",
       "      <td>9.505556</td>\n",
       "    </tr>\n",
       "    <tr>\n",
       "      <th>5</th>\n",
       "      <td>12</td>\n",
       "      <td>5806</td>\n",
       "      <td>720</td>\n",
       "      <td>8.063889</td>\n",
       "    </tr>\n",
       "    <tr>\n",
       "      <th>6</th>\n",
       "      <td>13</td>\n",
       "      <td>6657</td>\n",
       "      <td>720</td>\n",
       "      <td>9.245833</td>\n",
       "    </tr>\n",
       "    <tr>\n",
       "      <th>7</th>\n",
       "      <td>14</td>\n",
       "      <td>3829</td>\n",
       "      <td>719</td>\n",
       "      <td>5.325452</td>\n",
       "    </tr>\n",
       "  </tbody>\n",
       "</table>\n",
       "</div>"
      ],
      "text/plain": [
       "  week_of_year    id  delivery_person  order_by_deliver\n",
       "0           06  1683              598          2.814381\n",
       "1           07  4902              600          8.170000\n",
       "2           09  4947              720          6.870833\n",
       "3           10  6700              720          9.305556\n",
       "4           11  6844              720          9.505556\n",
       "5           12  5806              720          8.063889\n",
       "6           13  6657              720          9.245833\n",
       "7           14  3829              719          5.325452"
      ]
     },
     "execution_count": 374,
     "metadata": {},
     "output_type": "execute_result"
    }
   ],
   "source": [
    "df_aux = df2.groupby(\"week_of_year\").agg(id=(\"id\", \"count\"), delivery_person=(\"delivery_person\", \"nunique\")).reset_index()\n",
    "df_aux[\"order_by_deliver\"] = df_aux[\"id\"] / df_aux[\"delivery_person\"]\n",
    "df_aux"
   ]
  },
  {
   "cell_type": "code",
   "execution_count": 375,
   "metadata": {},
   "outputs": [
    {
     "data": {
      "application/vnd.plotly.v1+json": {
       "config": {
        "plotlyServerURL": "https://plot.ly"
       },
       "data": [
        {
         "hovertemplate": "week_of_year=%{x}<br>order_by_deliver=%{y}<extra></extra>",
         "legendgroup": "",
         "line": {
          "color": "#000001",
          "dash": "solid"
         },
         "marker": {
          "symbol": "circle"
         },
         "mode": "lines",
         "name": "",
         "orientation": "v",
         "showlegend": false,
         "type": "scatter",
         "x": [
          "06",
          "07",
          "09",
          "10",
          "11",
          "12",
          "13",
          "14"
         ],
         "xaxis": "x",
         "y": [
          2.81438127090301,
          8.17,
          6.870833333333334,
          9.305555555555555,
          9.505555555555556,
          8.063888888888888,
          9.245833333333334,
          5.325452016689847
         ],
         "yaxis": "y"
        }
       ],
       "layout": {
        "legend": {
         "tracegroupgap": 0
        },
        "margin": {
         "t": 60
        },
        "template": {
         "data": {
          "candlestick": [
           {
            "decreasing": {
             "line": {
              "color": "#000033"
             }
            },
            "increasing": {
             "line": {
              "color": "#000032"
             }
            },
            "type": "candlestick"
           }
          ],
          "contour": [
           {
            "colorscale": [
             [
              0,
              "#000011"
             ],
             [
              0.1111111111111111,
              "#000012"
             ],
             [
              0.2222222222222222,
              "#000013"
             ],
             [
              0.3333333333333333,
              "#000014"
             ],
             [
              0.4444444444444444,
              "#000015"
             ],
             [
              0.5555555555555556,
              "#000016"
             ],
             [
              0.6666666666666666,
              "#000017"
             ],
             [
              0.7777777777777778,
              "#000018"
             ],
             [
              0.8888888888888888,
              "#000019"
             ],
             [
              1,
              "#000020"
             ]
            ],
            "type": "contour"
           }
          ],
          "contourcarpet": [
           {
            "colorscale": [
             [
              0,
              "#000011"
             ],
             [
              0.1111111111111111,
              "#000012"
             ],
             [
              0.2222222222222222,
              "#000013"
             ],
             [
              0.3333333333333333,
              "#000014"
             ],
             [
              0.4444444444444444,
              "#000015"
             ],
             [
              0.5555555555555556,
              "#000016"
             ],
             [
              0.6666666666666666,
              "#000017"
             ],
             [
              0.7777777777777778,
              "#000018"
             ],
             [
              0.8888888888888888,
              "#000019"
             ],
             [
              1,
              "#000020"
             ]
            ],
            "type": "contourcarpet"
           }
          ],
          "heatmap": [
           {
            "colorscale": [
             [
              0,
              "#000011"
             ],
             [
              0.1111111111111111,
              "#000012"
             ],
             [
              0.2222222222222222,
              "#000013"
             ],
             [
              0.3333333333333333,
              "#000014"
             ],
             [
              0.4444444444444444,
              "#000015"
             ],
             [
              0.5555555555555556,
              "#000016"
             ],
             [
              0.6666666666666666,
              "#000017"
             ],
             [
              0.7777777777777778,
              "#000018"
             ],
             [
              0.8888888888888888,
              "#000019"
             ],
             [
              1,
              "#000020"
             ]
            ],
            "type": "heatmap"
           }
          ],
          "histogram2d": [
           {
            "colorscale": [
             [
              0,
              "#000011"
             ],
             [
              0.1111111111111111,
              "#000012"
             ],
             [
              0.2222222222222222,
              "#000013"
             ],
             [
              0.3333333333333333,
              "#000014"
             ],
             [
              0.4444444444444444,
              "#000015"
             ],
             [
              0.5555555555555556,
              "#000016"
             ],
             [
              0.6666666666666666,
              "#000017"
             ],
             [
              0.7777777777777778,
              "#000018"
             ],
             [
              0.8888888888888888,
              "#000019"
             ],
             [
              1,
              "#000020"
             ]
            ],
            "type": "histogram2d"
           }
          ],
          "icicle": [
           {
            "textfont": {
             "color": "white"
            },
            "type": "icicle"
           }
          ],
          "sankey": [
           {
            "textfont": {
             "color": "#000036"
            },
            "type": "sankey"
           }
          ],
          "scatter": [
           {
            "marker": {
             "line": {
              "width": 0
             }
            },
            "type": "scatter"
           }
          ],
          "table": [
           {
            "cells": {
             "fill": {
              "color": "#000038"
             },
             "font": {
              "color": "#000037"
             },
             "line": {
              "color": "#000039"
             }
            },
            "header": {
             "fill": {
              "color": "#000040"
             },
             "font": {
              "color": "#000036"
             },
             "line": {
              "color": "#000039"
             }
            },
            "type": "table"
           }
          ],
          "waterfall": [
           {
            "connector": {
             "line": {
              "color": "#000036",
              "width": 2
             }
            },
            "decreasing": {
             "marker": {
              "color": "#000033"
             }
            },
            "increasing": {
             "marker": {
              "color": "#000032"
             }
            },
            "totals": {
             "marker": {
              "color": "#000034"
             }
            },
            "type": "waterfall"
           }
          ]
         },
         "layout": {
          "coloraxis": {
           "colorscale": [
            [
             0,
             "#000011"
            ],
            [
             0.1111111111111111,
             "#000012"
            ],
            [
             0.2222222222222222,
             "#000013"
            ],
            [
             0.3333333333333333,
             "#000014"
            ],
            [
             0.4444444444444444,
             "#000015"
            ],
            [
             0.5555555555555556,
             "#000016"
            ],
            [
             0.6666666666666666,
             "#000017"
            ],
            [
             0.7777777777777778,
             "#000018"
            ],
            [
             0.8888888888888888,
             "#000019"
            ],
            [
             1,
             "#000020"
            ]
           ]
          },
          "colorscale": {
           "diverging": [
            [
             0,
             "#000021"
            ],
            [
             0.1,
             "#000022"
            ],
            [
             0.2,
             "#000023"
            ],
            [
             0.3,
             "#000024"
            ],
            [
             0.4,
             "#000025"
            ],
            [
             0.5,
             "#000026"
            ],
            [
             0.6,
             "#000027"
            ],
            [
             0.7,
             "#000028"
            ],
            [
             0.8,
             "#000029"
            ],
            [
             0.9,
             "#000030"
            ],
            [
             1,
             "#000031"
            ]
           ],
           "sequential": [
            [
             0,
             "#000011"
            ],
            [
             0.1111111111111111,
             "#000012"
            ],
            [
             0.2222222222222222,
             "#000013"
            ],
            [
             0.3333333333333333,
             "#000014"
            ],
            [
             0.4444444444444444,
             "#000015"
            ],
            [
             0.5555555555555556,
             "#000016"
            ],
            [
             0.6666666666666666,
             "#000017"
            ],
            [
             0.7777777777777778,
             "#000018"
            ],
            [
             0.8888888888888888,
             "#000019"
            ],
            [
             1,
             "#000020"
            ]
           ],
           "sequentialminus": [
            [
             0,
             "#000011"
            ],
            [
             0.1111111111111111,
             "#000012"
            ],
            [
             0.2222222222222222,
             "#000013"
            ],
            [
             0.3333333333333333,
             "#000014"
            ],
            [
             0.4444444444444444,
             "#000015"
            ],
            [
             0.5555555555555556,
             "#000016"
            ],
            [
             0.6666666666666666,
             "#000017"
            ],
            [
             0.7777777777777778,
             "#000018"
            ],
            [
             0.8888888888888888,
             "#000019"
            ],
            [
             1,
             "#000020"
            ]
           ]
          },
          "colorway": [
           "#000001",
           "#000002",
           "#000003",
           "#000004",
           "#000005",
           "#000006",
           "#000007",
           "#000008",
           "#000009",
           "#000010"
          ]
         }
        },
        "xaxis": {
         "anchor": "y",
         "domain": [
          0,
          1
         ],
         "title": {
          "text": "week_of_year"
         }
        },
        "yaxis": {
         "anchor": "x",
         "domain": [
          0,
          1
         ],
         "title": {
          "text": "order_by_deliver"
         }
        }
       }
      }
     },
     "metadata": {},
     "output_type": "display_data"
    }
   ],
   "source": [
    "fig = px.line(df_aux, x=\"week_of_year\", y=\"order_by_deliver\")\n",
    "fig.show()"
   ]
  },
  {
   "cell_type": "markdown",
   "metadata": {},
   "source": [
    "### 6. A localização central de cada cidade por tipo de tráfego."
   ]
  },
  {
   "cell_type": "code",
   "execution_count": 376,
   "metadata": {},
   "outputs": [
    {
     "data": {
      "text/html": [
       "<div>\n",
       "<style scoped>\n",
       "    .dataframe tbody tr th:only-of-type {\n",
       "        vertical-align: middle;\n",
       "    }\n",
       "\n",
       "    .dataframe tbody tr th {\n",
       "        vertical-align: top;\n",
       "    }\n",
       "\n",
       "    .dataframe thead th {\n",
       "        text-align: right;\n",
       "    }\n",
       "</style>\n",
       "<table border=\"1\" class=\"dataframe\">\n",
       "  <thead>\n",
       "    <tr style=\"text-align: right;\">\n",
       "      <th></th>\n",
       "      <th>city</th>\n",
       "      <th>road_traffic_density</th>\n",
       "      <th>restaurant_latitude</th>\n",
       "      <th>restaurant_longitude</th>\n",
       "    </tr>\n",
       "  </thead>\n",
       "  <tbody>\n",
       "    <tr>\n",
       "      <th>0</th>\n",
       "      <td>Metropolitian</td>\n",
       "      <td>High</td>\n",
       "      <td>18.539299</td>\n",
       "      <td>76.284134</td>\n",
       "    </tr>\n",
       "    <tr>\n",
       "      <th>1</th>\n",
       "      <td>Metropolitian</td>\n",
       "      <td>Jam</td>\n",
       "      <td>18.562450</td>\n",
       "      <td>75.902847</td>\n",
       "    </tr>\n",
       "    <tr>\n",
       "      <th>2</th>\n",
       "      <td>Metropolitian</td>\n",
       "      <td>Low</td>\n",
       "      <td>18.551440</td>\n",
       "      <td>75.898497</td>\n",
       "    </tr>\n",
       "    <tr>\n",
       "      <th>3</th>\n",
       "      <td>Metropolitian</td>\n",
       "      <td>Medium</td>\n",
       "      <td>18.551440</td>\n",
       "      <td>75.902847</td>\n",
       "    </tr>\n",
       "    <tr>\n",
       "      <th>4</th>\n",
       "      <td>Semi-Urban</td>\n",
       "      <td>High</td>\n",
       "      <td>20.423478</td>\n",
       "      <td>76.784976</td>\n",
       "    </tr>\n",
       "    <tr>\n",
       "      <th>5</th>\n",
       "      <td>Semi-Urban</td>\n",
       "      <td>Jam</td>\n",
       "      <td>17.434965</td>\n",
       "      <td>76.618496</td>\n",
       "    </tr>\n",
       "    <tr>\n",
       "      <th>6</th>\n",
       "      <td>Semi-Urban</td>\n",
       "      <td>Medium</td>\n",
       "      <td>21.160234</td>\n",
       "      <td>77.661931</td>\n",
       "    </tr>\n",
       "    <tr>\n",
       "      <th>7</th>\n",
       "      <td>Urban</td>\n",
       "      <td>High</td>\n",
       "      <td>18.593481</td>\n",
       "      <td>75.892574</td>\n",
       "    </tr>\n",
       "    <tr>\n",
       "      <th>8</th>\n",
       "      <td>Urban</td>\n",
       "      <td>Jam</td>\n",
       "      <td>18.554382</td>\n",
       "      <td>75.893400</td>\n",
       "    </tr>\n",
       "    <tr>\n",
       "      <th>9</th>\n",
       "      <td>Urban</td>\n",
       "      <td>Low</td>\n",
       "      <td>18.546947</td>\n",
       "      <td>75.892574</td>\n",
       "    </tr>\n",
       "    <tr>\n",
       "      <th>10</th>\n",
       "      <td>Urban</td>\n",
       "      <td>Medium</td>\n",
       "      <td>18.554382</td>\n",
       "      <td>75.903365</td>\n",
       "    </tr>\n",
       "  </tbody>\n",
       "</table>\n",
       "</div>"
      ],
      "text/plain": [
       "              city road_traffic_density  restaurant_latitude  \\\n",
       "0   Metropolitian                 High             18.539299   \n",
       "1   Metropolitian                  Jam             18.562450   \n",
       "2   Metropolitian                  Low             18.551440   \n",
       "3   Metropolitian               Medium             18.551440   \n",
       "4      Semi-Urban                 High             20.423478   \n",
       "5      Semi-Urban                  Jam             17.434965   \n",
       "6      Semi-Urban               Medium             21.160234   \n",
       "7           Urban                 High             18.593481   \n",
       "8           Urban                  Jam             18.554382   \n",
       "9           Urban                  Low             18.546947   \n",
       "10          Urban               Medium             18.554382   \n",
       "\n",
       "    restaurant_longitude  \n",
       "0              76.284134  \n",
       "1              75.902847  \n",
       "2              75.898497  \n",
       "3              75.902847  \n",
       "4              76.784976  \n",
       "5              76.618496  \n",
       "6              77.661931  \n",
       "7              75.892574  \n",
       "8              75.893400  \n",
       "9              75.892574  \n",
       "10             75.903365  "
      ]
     },
     "execution_count": 376,
     "metadata": {},
     "output_type": "execute_result"
    }
   ],
   "source": [
    "df2.groupby(['city', 'road_traffic_density']).agg({\n",
    "    'restaurant_latitude': 'median',\n",
    "    'restaurant_longitude': 'median'\n",
    "}).reset_index()"
   ]
  },
  {
   "cell_type": "markdown",
   "metadata": {},
   "source": [
    "## Do lado do entregador:"
   ]
  },
  {
   "cell_type": "markdown",
   "metadata": {},
   "source": [
    "### 1. A menor e maior idade dos entregadores."
   ]
  },
  {
   "cell_type": "code",
   "execution_count": 17,
   "metadata": {},
   "outputs": [
    {
     "data": {
      "text/plain": [
       "20"
      ]
     },
     "execution_count": 17,
     "metadata": {},
     "output_type": "execute_result"
    }
   ],
   "source": [
    "#Menor idade\n",
    "df2[\"delivery_person_age\"].min()"
   ]
  },
  {
   "cell_type": "code",
   "execution_count": 18,
   "metadata": {},
   "outputs": [
    {
     "data": {
      "text/plain": [
       "39"
      ]
     },
     "execution_count": 18,
     "metadata": {},
     "output_type": "execute_result"
    }
   ],
   "source": [
    "#Maior idade\n",
    "df2[\"delivery_person_age\"].max()"
   ]
  },
  {
   "cell_type": "markdown",
   "metadata": {},
   "source": [
    "### 2. A pior e a melhor condição de veículos."
   ]
  },
  {
   "cell_type": "code",
   "execution_count": 19,
   "metadata": {},
   "outputs": [
    {
     "data": {
      "text/html": [
       "<div>\n",
       "<style scoped>\n",
       "    .dataframe tbody tr th:only-of-type {\n",
       "        vertical-align: middle;\n",
       "    }\n",
       "\n",
       "    .dataframe tbody tr th {\n",
       "        vertical-align: top;\n",
       "    }\n",
       "\n",
       "    .dataframe thead th {\n",
       "        text-align: right;\n",
       "    }\n",
       "</style>\n",
       "<table border=\"1\" class=\"dataframe\">\n",
       "  <thead>\n",
       "    <tr style=\"text-align: right;\">\n",
       "      <th></th>\n",
       "      <th>type_of_vehicle</th>\n",
       "      <th>vehicle_condition</th>\n",
       "    </tr>\n",
       "  </thead>\n",
       "  <tbody>\n",
       "    <tr>\n",
       "      <th>0</th>\n",
       "      <td>motorcycle</td>\n",
       "      <td>0.568313</td>\n",
       "    </tr>\n",
       "    <tr>\n",
       "      <th>1</th>\n",
       "      <td>scooter</td>\n",
       "      <td>1.508271</td>\n",
       "    </tr>\n",
       "    <tr>\n",
       "      <th>2</th>\n",
       "      <td>electric_scooter</td>\n",
       "      <td>2.000000</td>\n",
       "    </tr>\n",
       "  </tbody>\n",
       "</table>\n",
       "</div>"
      ],
      "text/plain": [
       "    type_of_vehicle  vehicle_condition\n",
       "0        motorcycle           0.568313\n",
       "1           scooter           1.508271\n",
       "2  electric_scooter           2.000000"
      ]
     },
     "execution_count": 19,
     "metadata": {},
     "output_type": "execute_result"
    }
   ],
   "source": [
    "#Pior condição de veículo (Média)\n",
    "df2.groupby(\"type_of_vehicle\")[\"vehicle_condition\"].mean().sort_values(ascending=True).reset_index()"
   ]
  },
  {
   "cell_type": "code",
   "execution_count": 20,
   "metadata": {},
   "outputs": [
    {
     "data": {
      "text/html": [
       "<div>\n",
       "<style scoped>\n",
       "    .dataframe tbody tr th:only-of-type {\n",
       "        vertical-align: middle;\n",
       "    }\n",
       "\n",
       "    .dataframe tbody tr th {\n",
       "        vertical-align: top;\n",
       "    }\n",
       "\n",
       "    .dataframe thead th {\n",
       "        text-align: right;\n",
       "    }\n",
       "</style>\n",
       "<table border=\"1\" class=\"dataframe\">\n",
       "  <thead>\n",
       "    <tr style=\"text-align: right;\">\n",
       "      <th></th>\n",
       "      <th>type_of_vehicle</th>\n",
       "      <th>vehicle_condition</th>\n",
       "    </tr>\n",
       "  </thead>\n",
       "  <tbody>\n",
       "    <tr>\n",
       "      <th>0</th>\n",
       "      <td>motorcycle</td>\n",
       "      <td>0.0</td>\n",
       "    </tr>\n",
       "    <tr>\n",
       "      <th>1</th>\n",
       "      <td>electric_scooter</td>\n",
       "      <td>2.0</td>\n",
       "    </tr>\n",
       "    <tr>\n",
       "      <th>2</th>\n",
       "      <td>scooter</td>\n",
       "      <td>2.0</td>\n",
       "    </tr>\n",
       "  </tbody>\n",
       "</table>\n",
       "</div>"
      ],
      "text/plain": [
       "    type_of_vehicle  vehicle_condition\n",
       "0        motorcycle                0.0\n",
       "1  electric_scooter                2.0\n",
       "2           scooter                2.0"
      ]
     },
     "execution_count": 20,
     "metadata": {},
     "output_type": "execute_result"
    }
   ],
   "source": [
    "#Pior condição do veículo (Mediana)\n",
    "df2.groupby(\"type_of_vehicle\")[\"vehicle_condition\"].median().sort_values(ascending=True).reset_index()"
   ]
  },
  {
   "cell_type": "code",
   "execution_count": 21,
   "metadata": {},
   "outputs": [
    {
     "data": {
      "text/html": [
       "<div>\n",
       "<style scoped>\n",
       "    .dataframe tbody tr th:only-of-type {\n",
       "        vertical-align: middle;\n",
       "    }\n",
       "\n",
       "    .dataframe tbody tr th {\n",
       "        vertical-align: top;\n",
       "    }\n",
       "\n",
       "    .dataframe thead th {\n",
       "        text-align: right;\n",
       "    }\n",
       "</style>\n",
       "<table border=\"1\" class=\"dataframe\">\n",
       "  <thead>\n",
       "    <tr style=\"text-align: right;\">\n",
       "      <th></th>\n",
       "      <th>type_of_vehicle</th>\n",
       "      <th>vehicle_condition</th>\n",
       "    </tr>\n",
       "  </thead>\n",
       "  <tbody>\n",
       "    <tr>\n",
       "      <th>0</th>\n",
       "      <td>electric_scooter</td>\n",
       "      <td>2.000000</td>\n",
       "    </tr>\n",
       "    <tr>\n",
       "      <th>1</th>\n",
       "      <td>scooter</td>\n",
       "      <td>1.508271</td>\n",
       "    </tr>\n",
       "    <tr>\n",
       "      <th>2</th>\n",
       "      <td>motorcycle</td>\n",
       "      <td>0.568313</td>\n",
       "    </tr>\n",
       "  </tbody>\n",
       "</table>\n",
       "</div>"
      ],
      "text/plain": [
       "    type_of_vehicle  vehicle_condition\n",
       "0  electric_scooter           2.000000\n",
       "1           scooter           1.508271\n",
       "2        motorcycle           0.568313"
      ]
     },
     "execution_count": 21,
     "metadata": {},
     "output_type": "execute_result"
    }
   ],
   "source": [
    "#Melhor condição do veículo (Média)\n",
    "df2.groupby(\"type_of_vehicle\")[\"vehicle_condition\"].mean().sort_values(ascending=False).reset_index()"
   ]
  },
  {
   "cell_type": "code",
   "execution_count": 22,
   "metadata": {},
   "outputs": [
    {
     "data": {
      "text/html": [
       "<div>\n",
       "<style scoped>\n",
       "    .dataframe tbody tr th:only-of-type {\n",
       "        vertical-align: middle;\n",
       "    }\n",
       "\n",
       "    .dataframe tbody tr th {\n",
       "        vertical-align: top;\n",
       "    }\n",
       "\n",
       "    .dataframe thead th {\n",
       "        text-align: right;\n",
       "    }\n",
       "</style>\n",
       "<table border=\"1\" class=\"dataframe\">\n",
       "  <thead>\n",
       "    <tr style=\"text-align: right;\">\n",
       "      <th></th>\n",
       "      <th>type_of_vehicle</th>\n",
       "      <th>vehicle_condition</th>\n",
       "    </tr>\n",
       "  </thead>\n",
       "  <tbody>\n",
       "    <tr>\n",
       "      <th>0</th>\n",
       "      <td>electric_scooter</td>\n",
       "      <td>2.0</td>\n",
       "    </tr>\n",
       "    <tr>\n",
       "      <th>1</th>\n",
       "      <td>scooter</td>\n",
       "      <td>2.0</td>\n",
       "    </tr>\n",
       "    <tr>\n",
       "      <th>2</th>\n",
       "      <td>motorcycle</td>\n",
       "      <td>0.0</td>\n",
       "    </tr>\n",
       "  </tbody>\n",
       "</table>\n",
       "</div>"
      ],
      "text/plain": [
       "    type_of_vehicle  vehicle_condition\n",
       "0  electric_scooter                2.0\n",
       "1           scooter                2.0\n",
       "2        motorcycle                0.0"
      ]
     },
     "execution_count": 22,
     "metadata": {},
     "output_type": "execute_result"
    }
   ],
   "source": [
    "#Melhor condição do veículo (Mediana)\n",
    "df2.groupby(\"type_of_vehicle\")[\"vehicle_condition\"].median().sort_values(ascending=False).reset_index()"
   ]
  },
  {
   "cell_type": "code",
   "execution_count": 24,
   "metadata": {},
   "outputs": [
    {
     "data": {
      "text/html": [
       "<div>\n",
       "<style scoped>\n",
       "    .dataframe tbody tr th:only-of-type {\n",
       "        vertical-align: middle;\n",
       "    }\n",
       "\n",
       "    .dataframe tbody tr th {\n",
       "        vertical-align: top;\n",
       "    }\n",
       "\n",
       "    .dataframe thead th {\n",
       "        text-align: right;\n",
       "    }\n",
       "</style>\n",
       "<table border=\"1\" class=\"dataframe\">\n",
       "  <thead>\n",
       "    <tr style=\"text-align: right;\">\n",
       "      <th></th>\n",
       "      <th>type_of_vehicle</th>\n",
       "      <th>vehicle_condition</th>\n",
       "    </tr>\n",
       "  </thead>\n",
       "  <tbody>\n",
       "    <tr>\n",
       "      <th>0</th>\n",
       "      <td>electric_scooter</td>\n",
       "      <td>2.0</td>\n",
       "    </tr>\n",
       "  </tbody>\n",
       "</table>\n",
       "</div>"
      ],
      "text/plain": [
       "    type_of_vehicle  vehicle_condition\n",
       "0  electric_scooter                2.0"
      ]
     },
     "execution_count": 24,
     "metadata": {},
     "output_type": "execute_result"
    }
   ],
   "source": [
    "#Nome do veículo com a melhor condição\n",
    "df2.groupby(\"type_of_vehicle\")[\"vehicle_condition\"].mean().sort_values(ascending=False).reset_index().head(1)"
   ]
  },
  {
   "cell_type": "markdown",
   "metadata": {},
   "source": [
    "### 3. A avaliação média por entregador."
   ]
  },
  {
   "cell_type": "code",
   "execution_count": 432,
   "metadata": {},
   "outputs": [
    {
     "data": {
      "text/html": [
       "<div>\n",
       "<style scoped>\n",
       "    .dataframe tbody tr th:only-of-type {\n",
       "        vertical-align: middle;\n",
       "    }\n",
       "\n",
       "    .dataframe tbody tr th {\n",
       "        vertical-align: top;\n",
       "    }\n",
       "\n",
       "    .dataframe thead th {\n",
       "        text-align: right;\n",
       "    }\n",
       "</style>\n",
       "<table border=\"1\" class=\"dataframe\">\n",
       "  <thead>\n",
       "    <tr style=\"text-align: right;\">\n",
       "      <th></th>\n",
       "      <th>delivery_person</th>\n",
       "      <th>delivery_person_ratings</th>\n",
       "    </tr>\n",
       "  </thead>\n",
       "  <tbody>\n",
       "    <tr>\n",
       "      <th>0</th>\n",
       "      <td>AGRRES010DEL01</td>\n",
       "      <td>4.761538</td>\n",
       "    </tr>\n",
       "    <tr>\n",
       "      <th>1</th>\n",
       "      <td>AGRRES010DEL02</td>\n",
       "      <td>4.671429</td>\n",
       "    </tr>\n",
       "    <tr>\n",
       "      <th>2</th>\n",
       "      <td>AGRRES010DEL03</td>\n",
       "      <td>4.575000</td>\n",
       "    </tr>\n",
       "    <tr>\n",
       "      <th>3</th>\n",
       "      <td>AGRRES01DEL01</td>\n",
       "      <td>4.522222</td>\n",
       "    </tr>\n",
       "    <tr>\n",
       "      <th>4</th>\n",
       "      <td>AGRRES01DEL02</td>\n",
       "      <td>4.700000</td>\n",
       "    </tr>\n",
       "    <tr>\n",
       "      <th>...</th>\n",
       "      <td>...</td>\n",
       "      <td>...</td>\n",
       "    </tr>\n",
       "    <tr>\n",
       "      <th>1315</th>\n",
       "      <td>VADRES19DEL02</td>\n",
       "      <td>4.632727</td>\n",
       "    </tr>\n",
       "    <tr>\n",
       "      <th>1316</th>\n",
       "      <td>VADRES19DEL03</td>\n",
       "      <td>4.670270</td>\n",
       "    </tr>\n",
       "    <tr>\n",
       "      <th>1317</th>\n",
       "      <td>VADRES20DEL01</td>\n",
       "      <td>4.620370</td>\n",
       "    </tr>\n",
       "    <tr>\n",
       "      <th>1318</th>\n",
       "      <td>VADRES20DEL02</td>\n",
       "      <td>4.591111</td>\n",
       "    </tr>\n",
       "    <tr>\n",
       "      <th>1319</th>\n",
       "      <td>VADRES20DEL03</td>\n",
       "      <td>4.679412</td>\n",
       "    </tr>\n",
       "  </tbody>\n",
       "</table>\n",
       "<p>1320 rows × 2 columns</p>\n",
       "</div>"
      ],
      "text/plain": [
       "     delivery_person  delivery_person_ratings\n",
       "0     AGRRES010DEL01                 4.761538\n",
       "1     AGRRES010DEL02                 4.671429\n",
       "2     AGRRES010DEL03                 4.575000\n",
       "3      AGRRES01DEL01                 4.522222\n",
       "4      AGRRES01DEL02                 4.700000\n",
       "...              ...                      ...\n",
       "1315   VADRES19DEL02                 4.632727\n",
       "1316   VADRES19DEL03                 4.670270\n",
       "1317   VADRES20DEL01                 4.620370\n",
       "1318   VADRES20DEL02                 4.591111\n",
       "1319   VADRES20DEL03                 4.679412\n",
       "\n",
       "[1320 rows x 2 columns]"
      ]
     },
     "execution_count": 432,
     "metadata": {},
     "output_type": "execute_result"
    }
   ],
   "source": [
    "df2.loc[:,[\"delivery_person\",\"delivery_person_ratings\"]].groupby(\"delivery_person\").mean().reset_index()"
   ]
  },
  {
   "cell_type": "markdown",
   "metadata": {},
   "source": [
    "### 4. A avaliação média e o desvio padrão por tipo de tráfego."
   ]
  },
  {
   "cell_type": "code",
   "execution_count": 385,
   "metadata": {},
   "outputs": [
    {
     "data": {
      "text/html": [
       "<div>\n",
       "<style scoped>\n",
       "    .dataframe tbody tr th:only-of-type {\n",
       "        vertical-align: middle;\n",
       "    }\n",
       "\n",
       "    .dataframe tbody tr th {\n",
       "        vertical-align: top;\n",
       "    }\n",
       "\n",
       "    .dataframe thead th {\n",
       "        text-align: right;\n",
       "    }\n",
       "</style>\n",
       "<table border=\"1\" class=\"dataframe\">\n",
       "  <thead>\n",
       "    <tr style=\"text-align: right;\">\n",
       "      <th></th>\n",
       "      <th>road_traffic_density</th>\n",
       "      <th>mean</th>\n",
       "      <th>std</th>\n",
       "    </tr>\n",
       "  </thead>\n",
       "  <tbody>\n",
       "    <tr>\n",
       "      <th>0</th>\n",
       "      <td>High</td>\n",
       "      <td>4.652230</td>\n",
       "      <td>0.273044</td>\n",
       "    </tr>\n",
       "    <tr>\n",
       "      <th>1</th>\n",
       "      <td>Jam</td>\n",
       "      <td>4.594019</td>\n",
       "      <td>0.329778</td>\n",
       "    </tr>\n",
       "    <tr>\n",
       "      <th>2</th>\n",
       "      <td>Low</td>\n",
       "      <td>4.645011</td>\n",
       "      <td>0.338080</td>\n",
       "    </tr>\n",
       "    <tr>\n",
       "      <th>3</th>\n",
       "      <td>Medium</td>\n",
       "      <td>4.660138</td>\n",
       "      <td>0.274245</td>\n",
       "    </tr>\n",
       "  </tbody>\n",
       "</table>\n",
       "</div>"
      ],
      "text/plain": [
       "  road_traffic_density      mean       std\n",
       "0                High   4.652230  0.273044\n",
       "1                 Jam   4.594019  0.329778\n",
       "2                 Low   4.645011  0.338080\n",
       "3              Medium   4.660138  0.274245"
      ]
     },
     "execution_count": 385,
     "metadata": {},
     "output_type": "execute_result"
    }
   ],
   "source": [
    "df2.groupby(\"road_traffic_density\")[\"delivery_person_ratings\"].agg([\"mean\", \"std\"]).reset_index()"
   ]
  },
  {
   "cell_type": "markdown",
   "metadata": {},
   "source": [
    "### 5. A avaliação média e o desvio padrão por condições climáticas."
   ]
  },
  {
   "cell_type": "code",
   "execution_count": 387,
   "metadata": {},
   "outputs": [
    {
     "data": {
      "text/html": [
       "<div>\n",
       "<style scoped>\n",
       "    .dataframe tbody tr th:only-of-type {\n",
       "        vertical-align: middle;\n",
       "    }\n",
       "\n",
       "    .dataframe tbody tr th {\n",
       "        vertical-align: top;\n",
       "    }\n",
       "\n",
       "    .dataframe thead th {\n",
       "        text-align: right;\n",
       "    }\n",
       "</style>\n",
       "<table border=\"1\" class=\"dataframe\">\n",
       "  <thead>\n",
       "    <tr style=\"text-align: right;\">\n",
       "      <th></th>\n",
       "      <th>weatherconditions</th>\n",
       "      <th>mean</th>\n",
       "      <th>std</th>\n",
       "    </tr>\n",
       "  </thead>\n",
       "  <tbody>\n",
       "    <tr>\n",
       "      <th>0</th>\n",
       "      <td>conditions Cloudy</td>\n",
       "      <td>4.651871</td>\n",
       "      <td>0.281197</td>\n",
       "    </tr>\n",
       "    <tr>\n",
       "      <th>1</th>\n",
       "      <td>conditions Fog</td>\n",
       "      <td>4.652965</td>\n",
       "      <td>0.275060</td>\n",
       "    </tr>\n",
       "    <tr>\n",
       "      <th>2</th>\n",
       "      <td>conditions Sandstorms</td>\n",
       "      <td>4.611748</td>\n",
       "      <td>0.310852</td>\n",
       "    </tr>\n",
       "    <tr>\n",
       "      <th>3</th>\n",
       "      <td>conditions Stormy</td>\n",
       "      <td>4.611819</td>\n",
       "      <td>0.313096</td>\n",
       "    </tr>\n",
       "    <tr>\n",
       "      <th>4</th>\n",
       "      <td>conditions Sunny</td>\n",
       "      <td>4.654868</td>\n",
       "      <td>0.396674</td>\n",
       "    </tr>\n",
       "    <tr>\n",
       "      <th>5</th>\n",
       "      <td>conditions Windy</td>\n",
       "      <td>4.616128</td>\n",
       "      <td>0.304565</td>\n",
       "    </tr>\n",
       "  </tbody>\n",
       "</table>\n",
       "</div>"
      ],
      "text/plain": [
       "       weatherconditions      mean       std\n",
       "0      conditions Cloudy  4.651871  0.281197\n",
       "1         conditions Fog  4.652965  0.275060\n",
       "2  conditions Sandstorms  4.611748  0.310852\n",
       "3      conditions Stormy  4.611819  0.313096\n",
       "4       conditions Sunny  4.654868  0.396674\n",
       "5       conditions Windy  4.616128  0.304565"
      ]
     },
     "execution_count": 387,
     "metadata": {},
     "output_type": "execute_result"
    }
   ],
   "source": [
    "df2.groupby(\"weatherconditions\")[\"delivery_person_ratings\"].agg([\"mean\", \"std\"]).reset_index()"
   ]
  },
  {
   "cell_type": "markdown",
   "metadata": {},
   "source": [
    "### 6. Os 10 entregadores mais rápidos por cidade."
   ]
  },
  {
   "cell_type": "code",
   "execution_count": 388,
   "metadata": {},
   "outputs": [
    {
     "data": {
      "text/html": [
       "<div>\n",
       "<style scoped>\n",
       "    .dataframe tbody tr th:only-of-type {\n",
       "        vertical-align: middle;\n",
       "    }\n",
       "\n",
       "    .dataframe tbody tr th {\n",
       "        vertical-align: top;\n",
       "    }\n",
       "\n",
       "    .dataframe thead th {\n",
       "        text-align: right;\n",
       "    }\n",
       "</style>\n",
       "<table border=\"1\" class=\"dataframe\">\n",
       "  <thead>\n",
       "    <tr style=\"text-align: right;\">\n",
       "      <th></th>\n",
       "      <th>city</th>\n",
       "      <th>delivery_person</th>\n",
       "      <th>time_taken(min)</th>\n",
       "    </tr>\n",
       "  </thead>\n",
       "  <tbody>\n",
       "    <tr>\n",
       "      <th>0</th>\n",
       "      <td>Urban</td>\n",
       "      <td>LUDHRES01DEL02</td>\n",
       "      <td>10.000000</td>\n",
       "    </tr>\n",
       "    <tr>\n",
       "      <th>1</th>\n",
       "      <td>Urban</td>\n",
       "      <td>BHPRES11DEL03</td>\n",
       "      <td>10.000000</td>\n",
       "    </tr>\n",
       "    <tr>\n",
       "      <th>2</th>\n",
       "      <td>Urban</td>\n",
       "      <td>AURGRES02DEL03</td>\n",
       "      <td>10.000000</td>\n",
       "    </tr>\n",
       "    <tr>\n",
       "      <th>3</th>\n",
       "      <td>Urban</td>\n",
       "      <td>KOCRES04DEL02</td>\n",
       "      <td>10.000000</td>\n",
       "    </tr>\n",
       "    <tr>\n",
       "      <th>4</th>\n",
       "      <td>Urban</td>\n",
       "      <td>DEHRES08DEL02</td>\n",
       "      <td>10.000000</td>\n",
       "    </tr>\n",
       "    <tr>\n",
       "      <th>5</th>\n",
       "      <td>Urban</td>\n",
       "      <td>DEHRES20DEL03</td>\n",
       "      <td>10.000000</td>\n",
       "    </tr>\n",
       "    <tr>\n",
       "      <th>6</th>\n",
       "      <td>Urban</td>\n",
       "      <td>LUDHRES07DEL03</td>\n",
       "      <td>11.000000</td>\n",
       "    </tr>\n",
       "    <tr>\n",
       "      <th>7</th>\n",
       "      <td>Urban</td>\n",
       "      <td>BHPRES13DEL01</td>\n",
       "      <td>11.000000</td>\n",
       "    </tr>\n",
       "    <tr>\n",
       "      <th>8</th>\n",
       "      <td>Urban</td>\n",
       "      <td>KOLRES05DEL01</td>\n",
       "      <td>11.000000</td>\n",
       "    </tr>\n",
       "    <tr>\n",
       "      <th>9</th>\n",
       "      <td>Urban</td>\n",
       "      <td>CHENRES07DEL01</td>\n",
       "      <td>11.666667</td>\n",
       "    </tr>\n",
       "    <tr>\n",
       "      <th>10</th>\n",
       "      <td>Metropolitian</td>\n",
       "      <td>KNPRES03DEL02</td>\n",
       "      <td>15.750000</td>\n",
       "    </tr>\n",
       "    <tr>\n",
       "      <th>11</th>\n",
       "      <td>Metropolitian</td>\n",
       "      <td>ALHRES02DEL02</td>\n",
       "      <td>17.800000</td>\n",
       "    </tr>\n",
       "    <tr>\n",
       "      <th>12</th>\n",
       "      <td>Metropolitian</td>\n",
       "      <td>KNPRES01DEL01</td>\n",
       "      <td>19.125000</td>\n",
       "    </tr>\n",
       "    <tr>\n",
       "      <th>13</th>\n",
       "      <td>Metropolitian</td>\n",
       "      <td>KOLRES01DEL03</td>\n",
       "      <td>19.125000</td>\n",
       "    </tr>\n",
       "    <tr>\n",
       "      <th>14</th>\n",
       "      <td>Metropolitian</td>\n",
       "      <td>KOCRES02DEL02</td>\n",
       "      <td>19.250000</td>\n",
       "    </tr>\n",
       "    <tr>\n",
       "      <th>15</th>\n",
       "      <td>Metropolitian</td>\n",
       "      <td>KOCRES08DEL03</td>\n",
       "      <td>19.800000</td>\n",
       "    </tr>\n",
       "    <tr>\n",
       "      <th>16</th>\n",
       "      <td>Metropolitian</td>\n",
       "      <td>KOCRES16DEL03</td>\n",
       "      <td>20.000000</td>\n",
       "    </tr>\n",
       "    <tr>\n",
       "      <th>17</th>\n",
       "      <td>Metropolitian</td>\n",
       "      <td>KOCRES02DEL03</td>\n",
       "      <td>20.375000</td>\n",
       "    </tr>\n",
       "    <tr>\n",
       "      <th>18</th>\n",
       "      <td>Metropolitian</td>\n",
       "      <td>GOARES14DEL01</td>\n",
       "      <td>20.400000</td>\n",
       "    </tr>\n",
       "    <tr>\n",
       "      <th>19</th>\n",
       "      <td>Metropolitian</td>\n",
       "      <td>DEHRES20DEL03</td>\n",
       "      <td>20.428571</td>\n",
       "    </tr>\n",
       "    <tr>\n",
       "      <th>20</th>\n",
       "      <td>Semi-Urban</td>\n",
       "      <td>SURRES19DEL01</td>\n",
       "      <td>44.000000</td>\n",
       "    </tr>\n",
       "    <tr>\n",
       "      <th>21</th>\n",
       "      <td>Semi-Urban</td>\n",
       "      <td>INDORES16DEL01</td>\n",
       "      <td>44.000000</td>\n",
       "    </tr>\n",
       "    <tr>\n",
       "      <th>22</th>\n",
       "      <td>Semi-Urban</td>\n",
       "      <td>MYSRES18DEL01</td>\n",
       "      <td>44.000000</td>\n",
       "    </tr>\n",
       "    <tr>\n",
       "      <th>23</th>\n",
       "      <td>Semi-Urban</td>\n",
       "      <td>SURRES12DEL03</td>\n",
       "      <td>45.000000</td>\n",
       "    </tr>\n",
       "    <tr>\n",
       "      <th>24</th>\n",
       "      <td>Semi-Urban</td>\n",
       "      <td>BANGRES18DEL03</td>\n",
       "      <td>45.000000</td>\n",
       "    </tr>\n",
       "    <tr>\n",
       "      <th>25</th>\n",
       "      <td>Semi-Urban</td>\n",
       "      <td>HYDRES03DEL03</td>\n",
       "      <td>46.000000</td>\n",
       "    </tr>\n",
       "    <tr>\n",
       "      <th>26</th>\n",
       "      <td>Semi-Urban</td>\n",
       "      <td>RANCHIRES07DEL01</td>\n",
       "      <td>46.000000</td>\n",
       "    </tr>\n",
       "    <tr>\n",
       "      <th>27</th>\n",
       "      <td>Semi-Urban</td>\n",
       "      <td>INDORES19DEL01</td>\n",
       "      <td>46.000000</td>\n",
       "    </tr>\n",
       "    <tr>\n",
       "      <th>28</th>\n",
       "      <td>Semi-Urban</td>\n",
       "      <td>RANCHIRES010DEL02</td>\n",
       "      <td>46.000000</td>\n",
       "    </tr>\n",
       "    <tr>\n",
       "      <th>29</th>\n",
       "      <td>Semi-Urban</td>\n",
       "      <td>RANCHIRES04DEL01</td>\n",
       "      <td>46.000000</td>\n",
       "    </tr>\n",
       "  </tbody>\n",
       "</table>\n",
       "</div>"
      ],
      "text/plain": [
       "              city     delivery_person  time_taken(min)\n",
       "0           Urban      LUDHRES01DEL02         10.000000\n",
       "1           Urban       BHPRES11DEL03         10.000000\n",
       "2           Urban      AURGRES02DEL03         10.000000\n",
       "3           Urban       KOCRES04DEL02         10.000000\n",
       "4           Urban       DEHRES08DEL02         10.000000\n",
       "5           Urban       DEHRES20DEL03         10.000000\n",
       "6           Urban      LUDHRES07DEL03         11.000000\n",
       "7           Urban       BHPRES13DEL01         11.000000\n",
       "8           Urban       KOLRES05DEL01         11.000000\n",
       "9           Urban      CHENRES07DEL01         11.666667\n",
       "10  Metropolitian       KNPRES03DEL02         15.750000\n",
       "11  Metropolitian       ALHRES02DEL02         17.800000\n",
       "12  Metropolitian       KNPRES01DEL01         19.125000\n",
       "13  Metropolitian       KOLRES01DEL03         19.125000\n",
       "14  Metropolitian       KOCRES02DEL02         19.250000\n",
       "15  Metropolitian       KOCRES08DEL03         19.800000\n",
       "16  Metropolitian       KOCRES16DEL03         20.000000\n",
       "17  Metropolitian       KOCRES02DEL03         20.375000\n",
       "18  Metropolitian       GOARES14DEL01         20.400000\n",
       "19  Metropolitian       DEHRES20DEL03         20.428571\n",
       "20     Semi-Urban       SURRES19DEL01         44.000000\n",
       "21     Semi-Urban      INDORES16DEL01         44.000000\n",
       "22     Semi-Urban       MYSRES18DEL01         44.000000\n",
       "23     Semi-Urban       SURRES12DEL03         45.000000\n",
       "24     Semi-Urban      BANGRES18DEL03         45.000000\n",
       "25     Semi-Urban       HYDRES03DEL03         46.000000\n",
       "26     Semi-Urban    RANCHIRES07DEL01         46.000000\n",
       "27     Semi-Urban      INDORES19DEL01         46.000000\n",
       "28     Semi-Urban   RANCHIRES010DEL02         46.000000\n",
       "29     Semi-Urban    RANCHIRES04DEL01         46.000000"
      ]
     },
     "execution_count": 388,
     "metadata": {},
     "output_type": "execute_result"
    }
   ],
   "source": [
    "df2.groupby(['city', 'delivery_person'])['time_taken(min)'].mean().sort_values().groupby('city').head(10).reset_index()"
   ]
  },
  {
   "cell_type": "markdown",
   "metadata": {},
   "source": [
    "### 7. Os 10 entregadores mais lentos por cidade."
   ]
  },
  {
   "cell_type": "code",
   "execution_count": 389,
   "metadata": {},
   "outputs": [
    {
     "data": {
      "text/html": [
       "<div>\n",
       "<style scoped>\n",
       "    .dataframe tbody tr th:only-of-type {\n",
       "        vertical-align: middle;\n",
       "    }\n",
       "\n",
       "    .dataframe tbody tr th {\n",
       "        vertical-align: top;\n",
       "    }\n",
       "\n",
       "    .dataframe thead th {\n",
       "        text-align: right;\n",
       "    }\n",
       "</style>\n",
       "<table border=\"1\" class=\"dataframe\">\n",
       "  <thead>\n",
       "    <tr style=\"text-align: right;\">\n",
       "      <th></th>\n",
       "      <th>city</th>\n",
       "      <th>delivery_person</th>\n",
       "      <th>time_taken(min)</th>\n",
       "    </tr>\n",
       "  </thead>\n",
       "  <tbody>\n",
       "    <tr>\n",
       "      <th>0</th>\n",
       "      <td>Semi-Urban</td>\n",
       "      <td>JAPRES09DEL01</td>\n",
       "      <td>54.000000</td>\n",
       "    </tr>\n",
       "    <tr>\n",
       "      <th>1</th>\n",
       "      <td>Semi-Urban</td>\n",
       "      <td>GOARES18DEL01</td>\n",
       "      <td>54.000000</td>\n",
       "    </tr>\n",
       "    <tr>\n",
       "      <th>2</th>\n",
       "      <td>Semi-Urban</td>\n",
       "      <td>VADRES13DEL01</td>\n",
       "      <td>54.000000</td>\n",
       "    </tr>\n",
       "    <tr>\n",
       "      <th>3</th>\n",
       "      <td>Semi-Urban</td>\n",
       "      <td>PUNERES13DEL02</td>\n",
       "      <td>54.000000</td>\n",
       "    </tr>\n",
       "    <tr>\n",
       "      <th>4</th>\n",
       "      <td>Semi-Urban</td>\n",
       "      <td>MYSRES13DEL02</td>\n",
       "      <td>54.000000</td>\n",
       "    </tr>\n",
       "    <tr>\n",
       "      <th>5</th>\n",
       "      <td>Semi-Urban</td>\n",
       "      <td>MYSRES12DEL01</td>\n",
       "      <td>54.000000</td>\n",
       "    </tr>\n",
       "    <tr>\n",
       "      <th>6</th>\n",
       "      <td>Semi-Urban</td>\n",
       "      <td>MYSRES04DEL03</td>\n",
       "      <td>54.000000</td>\n",
       "    </tr>\n",
       "    <tr>\n",
       "      <th>7</th>\n",
       "      <td>Semi-Urban</td>\n",
       "      <td>LUDHRES05DEL01</td>\n",
       "      <td>54.000000</td>\n",
       "    </tr>\n",
       "    <tr>\n",
       "      <th>8</th>\n",
       "      <td>Semi-Urban</td>\n",
       "      <td>JAPRES14DEL02</td>\n",
       "      <td>54.000000</td>\n",
       "    </tr>\n",
       "    <tr>\n",
       "      <th>9</th>\n",
       "      <td>Semi-Urban</td>\n",
       "      <td>JAPRES03DEL02</td>\n",
       "      <td>54.000000</td>\n",
       "    </tr>\n",
       "    <tr>\n",
       "      <th>10</th>\n",
       "      <td>Urban</td>\n",
       "      <td>KOLRES19DEL03</td>\n",
       "      <td>51.000000</td>\n",
       "    </tr>\n",
       "    <tr>\n",
       "      <th>11</th>\n",
       "      <td>Urban</td>\n",
       "      <td>LUDHRES16DEL03</td>\n",
       "      <td>47.000000</td>\n",
       "    </tr>\n",
       "    <tr>\n",
       "      <th>12</th>\n",
       "      <td>Urban</td>\n",
       "      <td>AURGRES17DEL03</td>\n",
       "      <td>43.000000</td>\n",
       "    </tr>\n",
       "    <tr>\n",
       "      <th>13</th>\n",
       "      <td>Urban</td>\n",
       "      <td>BHPRES03DEL02</td>\n",
       "      <td>42.000000</td>\n",
       "    </tr>\n",
       "    <tr>\n",
       "      <th>14</th>\n",
       "      <td>Urban</td>\n",
       "      <td>BHPRES16DEL03</td>\n",
       "      <td>41.500000</td>\n",
       "    </tr>\n",
       "    <tr>\n",
       "      <th>15</th>\n",
       "      <td>Urban</td>\n",
       "      <td>DEHRES02DEL03</td>\n",
       "      <td>41.000000</td>\n",
       "    </tr>\n",
       "    <tr>\n",
       "      <th>16</th>\n",
       "      <td>Urban</td>\n",
       "      <td>DEHRES09DEL02</td>\n",
       "      <td>39.500000</td>\n",
       "    </tr>\n",
       "    <tr>\n",
       "      <th>17</th>\n",
       "      <td>Metropolitian</td>\n",
       "      <td>AGRRES02DEL01</td>\n",
       "      <td>39.428571</td>\n",
       "    </tr>\n",
       "    <tr>\n",
       "      <th>18</th>\n",
       "      <td>Urban</td>\n",
       "      <td>BHPRES07DEL03</td>\n",
       "      <td>39.333333</td>\n",
       "    </tr>\n",
       "    <tr>\n",
       "      <th>19</th>\n",
       "      <td>Urban</td>\n",
       "      <td>KOLRES08DEL02</td>\n",
       "      <td>39.000000</td>\n",
       "    </tr>\n",
       "    <tr>\n",
       "      <th>20</th>\n",
       "      <td>Urban</td>\n",
       "      <td>GOARES01DEL02</td>\n",
       "      <td>38.500000</td>\n",
       "    </tr>\n",
       "    <tr>\n",
       "      <th>21</th>\n",
       "      <td>Metropolitian</td>\n",
       "      <td>AURGRES11DEL03</td>\n",
       "      <td>38.500000</td>\n",
       "    </tr>\n",
       "    <tr>\n",
       "      <th>22</th>\n",
       "      <td>Metropolitian</td>\n",
       "      <td>KOLRES03DEL03</td>\n",
       "      <td>38.142857</td>\n",
       "    </tr>\n",
       "    <tr>\n",
       "      <th>23</th>\n",
       "      <td>Metropolitian</td>\n",
       "      <td>LUDHRES17DEL03</td>\n",
       "      <td>37.000000</td>\n",
       "    </tr>\n",
       "    <tr>\n",
       "      <th>24</th>\n",
       "      <td>Metropolitian</td>\n",
       "      <td>ALHRES18DEL02</td>\n",
       "      <td>36.666667</td>\n",
       "    </tr>\n",
       "    <tr>\n",
       "      <th>25</th>\n",
       "      <td>Metropolitian</td>\n",
       "      <td>GOARES08DEL03</td>\n",
       "      <td>36.000000</td>\n",
       "    </tr>\n",
       "    <tr>\n",
       "      <th>26</th>\n",
       "      <td>Metropolitian</td>\n",
       "      <td>ALHRES12DEL01</td>\n",
       "      <td>35.000000</td>\n",
       "    </tr>\n",
       "    <tr>\n",
       "      <th>27</th>\n",
       "      <td>Metropolitian</td>\n",
       "      <td>AGRRES13DEL02</td>\n",
       "      <td>34.700000</td>\n",
       "    </tr>\n",
       "    <tr>\n",
       "      <th>28</th>\n",
       "      <td>Metropolitian</td>\n",
       "      <td>KNPRES06DEL01</td>\n",
       "      <td>34.555556</td>\n",
       "    </tr>\n",
       "    <tr>\n",
       "      <th>29</th>\n",
       "      <td>Metropolitian</td>\n",
       "      <td>ALHRES010DEL01</td>\n",
       "      <td>34.500000</td>\n",
       "    </tr>\n",
       "  </tbody>\n",
       "</table>\n",
       "</div>"
      ],
      "text/plain": [
       "              city  delivery_person  time_taken(min)\n",
       "0      Semi-Urban    JAPRES09DEL01         54.000000\n",
       "1      Semi-Urban    GOARES18DEL01         54.000000\n",
       "2      Semi-Urban    VADRES13DEL01         54.000000\n",
       "3      Semi-Urban   PUNERES13DEL02         54.000000\n",
       "4      Semi-Urban    MYSRES13DEL02         54.000000\n",
       "5      Semi-Urban    MYSRES12DEL01         54.000000\n",
       "6      Semi-Urban    MYSRES04DEL03         54.000000\n",
       "7      Semi-Urban   LUDHRES05DEL01         54.000000\n",
       "8      Semi-Urban    JAPRES14DEL02         54.000000\n",
       "9      Semi-Urban    JAPRES03DEL02         54.000000\n",
       "10          Urban    KOLRES19DEL03         51.000000\n",
       "11          Urban   LUDHRES16DEL03         47.000000\n",
       "12          Urban   AURGRES17DEL03         43.000000\n",
       "13          Urban    BHPRES03DEL02         42.000000\n",
       "14          Urban    BHPRES16DEL03         41.500000\n",
       "15          Urban    DEHRES02DEL03         41.000000\n",
       "16          Urban    DEHRES09DEL02         39.500000\n",
       "17  Metropolitian    AGRRES02DEL01         39.428571\n",
       "18          Urban    BHPRES07DEL03         39.333333\n",
       "19          Urban    KOLRES08DEL02         39.000000\n",
       "20          Urban    GOARES01DEL02         38.500000\n",
       "21  Metropolitian   AURGRES11DEL03         38.500000\n",
       "22  Metropolitian    KOLRES03DEL03         38.142857\n",
       "23  Metropolitian   LUDHRES17DEL03         37.000000\n",
       "24  Metropolitian    ALHRES18DEL02         36.666667\n",
       "25  Metropolitian    GOARES08DEL03         36.000000\n",
       "26  Metropolitian    ALHRES12DEL01         35.000000\n",
       "27  Metropolitian    AGRRES13DEL02         34.700000\n",
       "28  Metropolitian    KNPRES06DEL01         34.555556\n",
       "29  Metropolitian   ALHRES010DEL01         34.500000"
      ]
     },
     "execution_count": 389,
     "metadata": {},
     "output_type": "execute_result"
    }
   ],
   "source": [
    "df2.groupby(['city', 'delivery_person'])['time_taken(min)'].mean().sort_values(ascending=False).groupby('city').head(10).reset_index()"
   ]
  },
  {
   "cell_type": "markdown",
   "metadata": {},
   "source": [
    "## Do lado do restaurante:"
   ]
  },
  {
   "cell_type": "markdown",
   "metadata": {},
   "source": [
    "### 1. A quantidade de entregadores únicos."
   ]
  },
  {
   "cell_type": "code",
   "execution_count": 390,
   "metadata": {},
   "outputs": [
    {
     "data": {
      "text/plain": [
       "1320"
      ]
     },
     "execution_count": 390,
     "metadata": {},
     "output_type": "execute_result"
    }
   ],
   "source": [
    "len(df2.loc[:, \"delivery_person\"].unique())"
   ]
  },
  {
   "cell_type": "markdown",
   "metadata": {},
   "source": [
    "### 2. A distância média dos restaurantes e dos locais de entrega."
   ]
  },
  {
   "cell_type": "code",
   "execution_count": 391,
   "metadata": {},
   "outputs": [
    {
     "data": {
      "text/plain": [
       "26.912100440866567"
      ]
     },
     "execution_count": 391,
     "metadata": {},
     "output_type": "execute_result"
    }
   ],
   "source": [
    "df2['distance'] = df2.apply(lambda x: haversine.haversine((x['restaurant_latitude'], x['restaurant_longitude']),\n",
    "                                                          (x['delivery_location_latitude'], x['delivery_location_longitude'])), axis=1)\n",
    "df2[\"distance\"].mean()"
   ]
  },
  {
   "cell_type": "markdown",
   "metadata": {},
   "source": [
    "### 3. O tempo médio e o desvio padrão de entrega por cidade."
   ]
  },
  {
   "cell_type": "code",
   "execution_count": 393,
   "metadata": {},
   "outputs": [
    {
     "data": {
      "text/html": [
       "<div>\n",
       "<style scoped>\n",
       "    .dataframe tbody tr th:only-of-type {\n",
       "        vertical-align: middle;\n",
       "    }\n",
       "\n",
       "    .dataframe tbody tr th {\n",
       "        vertical-align: top;\n",
       "    }\n",
       "\n",
       "    .dataframe thead th {\n",
       "        text-align: right;\n",
       "    }\n",
       "</style>\n",
       "<table border=\"1\" class=\"dataframe\">\n",
       "  <thead>\n",
       "    <tr style=\"text-align: right;\">\n",
       "      <th></th>\n",
       "      <th>city</th>\n",
       "      <th>mean</th>\n",
       "      <th>std</th>\n",
       "    </tr>\n",
       "  </thead>\n",
       "  <tbody>\n",
       "    <tr>\n",
       "      <th>0</th>\n",
       "      <td>Metropolitian</td>\n",
       "      <td>27.429860</td>\n",
       "      <td>9.134286</td>\n",
       "    </tr>\n",
       "    <tr>\n",
       "      <th>1</th>\n",
       "      <td>Semi-Urban</td>\n",
       "      <td>49.710526</td>\n",
       "      <td>2.724992</td>\n",
       "    </tr>\n",
       "    <tr>\n",
       "      <th>2</th>\n",
       "      <td>Urban</td>\n",
       "      <td>23.209495</td>\n",
       "      <td>8.859189</td>\n",
       "    </tr>\n",
       "  </tbody>\n",
       "</table>\n",
       "</div>"
      ],
      "text/plain": [
       "             city       mean       std\n",
       "0  Metropolitian   27.429860  9.134286\n",
       "1     Semi-Urban   49.710526  2.724992\n",
       "2          Urban   23.209495  8.859189"
      ]
     },
     "execution_count": 393,
     "metadata": {},
     "output_type": "execute_result"
    }
   ],
   "source": [
    "df2.groupby(\"city\")[\"time_taken(min)\"].agg([\"mean\", \"std\"]).reset_index()"
   ]
  },
  {
   "cell_type": "markdown",
   "metadata": {},
   "source": [
    "### 4. O tempo médio e o desvio padrão de entrega por cidade e tipo de pedido."
   ]
  },
  {
   "cell_type": "code",
   "execution_count": 394,
   "metadata": {},
   "outputs": [
    {
     "data": {
      "text/html": [
       "<div>\n",
       "<style scoped>\n",
       "    .dataframe tbody tr th:only-of-type {\n",
       "        vertical-align: middle;\n",
       "    }\n",
       "\n",
       "    .dataframe tbody tr th {\n",
       "        vertical-align: top;\n",
       "    }\n",
       "\n",
       "    .dataframe thead th {\n",
       "        text-align: right;\n",
       "    }\n",
       "</style>\n",
       "<table border=\"1\" class=\"dataframe\">\n",
       "  <thead>\n",
       "    <tr style=\"text-align: right;\">\n",
       "      <th></th>\n",
       "      <th>city</th>\n",
       "      <th>type_of_order</th>\n",
       "      <th>mean</th>\n",
       "      <th>std</th>\n",
       "    </tr>\n",
       "  </thead>\n",
       "  <tbody>\n",
       "    <tr>\n",
       "      <th>0</th>\n",
       "      <td>Metropolitian</td>\n",
       "      <td>Buffet</td>\n",
       "      <td>27.301935</td>\n",
       "      <td>9.155644</td>\n",
       "    </tr>\n",
       "    <tr>\n",
       "      <th>1</th>\n",
       "      <td>Metropolitian</td>\n",
       "      <td>Drinks</td>\n",
       "      <td>27.324962</td>\n",
       "      <td>9.041698</td>\n",
       "    </tr>\n",
       "    <tr>\n",
       "      <th>2</th>\n",
       "      <td>Metropolitian</td>\n",
       "      <td>Meal</td>\n",
       "      <td>27.618877</td>\n",
       "      <td>9.215624</td>\n",
       "    </tr>\n",
       "    <tr>\n",
       "      <th>3</th>\n",
       "      <td>Metropolitian</td>\n",
       "      <td>Snack</td>\n",
       "      <td>27.467867</td>\n",
       "      <td>9.119682</td>\n",
       "    </tr>\n",
       "    <tr>\n",
       "      <th>4</th>\n",
       "      <td>Semi-Urban</td>\n",
       "      <td>Buffet</td>\n",
       "      <td>49.707317</td>\n",
       "      <td>2.731702</td>\n",
       "    </tr>\n",
       "    <tr>\n",
       "      <th>5</th>\n",
       "      <td>Semi-Urban</td>\n",
       "      <td>Drinks</td>\n",
       "      <td>49.625000</td>\n",
       "      <td>2.459347</td>\n",
       "    </tr>\n",
       "    <tr>\n",
       "      <th>6</th>\n",
       "      <td>Semi-Urban</td>\n",
       "      <td>Meal</td>\n",
       "      <td>50.300000</td>\n",
       "      <td>3.041665</td>\n",
       "    </tr>\n",
       "    <tr>\n",
       "      <th>7</th>\n",
       "      <td>Semi-Urban</td>\n",
       "      <td>Snack</td>\n",
       "      <td>49.408163</td>\n",
       "      <td>2.707385</td>\n",
       "    </tr>\n",
       "    <tr>\n",
       "      <th>8</th>\n",
       "      <td>Urban</td>\n",
       "      <td>Buffet</td>\n",
       "      <td>23.566337</td>\n",
       "      <td>9.060933</td>\n",
       "    </tr>\n",
       "    <tr>\n",
       "      <th>9</th>\n",
       "      <td>Urban</td>\n",
       "      <td>Drinks</td>\n",
       "      <td>23.308885</td>\n",
       "      <td>8.925721</td>\n",
       "    </tr>\n",
       "    <tr>\n",
       "      <th>10</th>\n",
       "      <td>Urban</td>\n",
       "      <td>Meal</td>\n",
       "      <td>23.039012</td>\n",
       "      <td>8.769786</td>\n",
       "    </tr>\n",
       "    <tr>\n",
       "      <th>11</th>\n",
       "      <td>Urban</td>\n",
       "      <td>Snack</td>\n",
       "      <td>22.924958</td>\n",
       "      <td>8.667937</td>\n",
       "    </tr>\n",
       "  </tbody>\n",
       "</table>\n",
       "</div>"
      ],
      "text/plain": [
       "              city type_of_order       mean       std\n",
       "0   Metropolitian        Buffet   27.301935  9.155644\n",
       "1   Metropolitian        Drinks   27.324962  9.041698\n",
       "2   Metropolitian          Meal   27.618877  9.215624\n",
       "3   Metropolitian         Snack   27.467867  9.119682\n",
       "4      Semi-Urban        Buffet   49.707317  2.731702\n",
       "5      Semi-Urban        Drinks   49.625000  2.459347\n",
       "6      Semi-Urban          Meal   50.300000  3.041665\n",
       "7      Semi-Urban         Snack   49.408163  2.707385\n",
       "8           Urban        Buffet   23.566337  9.060933\n",
       "9           Urban        Drinks   23.308885  8.925721\n",
       "10          Urban          Meal   23.039012  8.769786\n",
       "11          Urban         Snack   22.924958  8.667937"
      ]
     },
     "execution_count": 394,
     "metadata": {},
     "output_type": "execute_result"
    }
   ],
   "source": [
    "df2.groupby([\"city\", \"type_of_order\"])[\"time_taken(min)\"].agg([\"mean\", \"std\"]).reset_index()"
   ]
  },
  {
   "cell_type": "markdown",
   "metadata": {},
   "source": [
    "### 5. O tempo médio e o desvio padrão de entrega por cidade e tipo de tráfego."
   ]
  },
  {
   "cell_type": "code",
   "execution_count": 395,
   "metadata": {},
   "outputs": [
    {
     "data": {
      "text/html": [
       "<div>\n",
       "<style scoped>\n",
       "    .dataframe tbody tr th:only-of-type {\n",
       "        vertical-align: middle;\n",
       "    }\n",
       "\n",
       "    .dataframe tbody tr th {\n",
       "        vertical-align: top;\n",
       "    }\n",
       "\n",
       "    .dataframe thead th {\n",
       "        text-align: right;\n",
       "    }\n",
       "</style>\n",
       "<table border=\"1\" class=\"dataframe\">\n",
       "  <thead>\n",
       "    <tr style=\"text-align: right;\">\n",
       "      <th></th>\n",
       "      <th>city</th>\n",
       "      <th>road_traffic_density</th>\n",
       "      <th>mean</th>\n",
       "      <th>std</th>\n",
       "    </tr>\n",
       "  </thead>\n",
       "  <tbody>\n",
       "    <tr>\n",
       "      <th>0</th>\n",
       "      <td>Metropolitian</td>\n",
       "      <td>High</td>\n",
       "      <td>28.145976</td>\n",
       "      <td>7.904494</td>\n",
       "    </tr>\n",
       "    <tr>\n",
       "      <th>1</th>\n",
       "      <td>Metropolitian</td>\n",
       "      <td>Jam</td>\n",
       "      <td>31.978193</td>\n",
       "      <td>9.477798</td>\n",
       "    </tr>\n",
       "    <tr>\n",
       "      <th>2</th>\n",
       "      <td>Metropolitian</td>\n",
       "      <td>Low</td>\n",
       "      <td>22.259874</td>\n",
       "      <td>6.795802</td>\n",
       "    </tr>\n",
       "    <tr>\n",
       "      <th>3</th>\n",
       "      <td>Metropolitian</td>\n",
       "      <td>Medium</td>\n",
       "      <td>27.728045</td>\n",
       "      <td>8.309769</td>\n",
       "    </tr>\n",
       "    <tr>\n",
       "      <th>4</th>\n",
       "      <td>Semi-Urban</td>\n",
       "      <td>High</td>\n",
       "      <td>50.125000</td>\n",
       "      <td>2.629956</td>\n",
       "    </tr>\n",
       "    <tr>\n",
       "      <th>5</th>\n",
       "      <td>Semi-Urban</td>\n",
       "      <td>Jam</td>\n",
       "      <td>49.841270</td>\n",
       "      <td>2.717095</td>\n",
       "    </tr>\n",
       "    <tr>\n",
       "      <th>6</th>\n",
       "      <td>Semi-Urban</td>\n",
       "      <td>Medium</td>\n",
       "      <td>47.400000</td>\n",
       "      <td>2.011080</td>\n",
       "    </tr>\n",
       "    <tr>\n",
       "      <th>7</th>\n",
       "      <td>Urban</td>\n",
       "      <td>High</td>\n",
       "      <td>24.305335</td>\n",
       "      <td>8.494842</td>\n",
       "    </tr>\n",
       "    <tr>\n",
       "      <th>8</th>\n",
       "      <td>Urban</td>\n",
       "      <td>Jam</td>\n",
       "      <td>27.989541</td>\n",
       "      <td>10.078679</td>\n",
       "    </tr>\n",
       "    <tr>\n",
       "      <th>9</th>\n",
       "      <td>Urban</td>\n",
       "      <td>Low</td>\n",
       "      <td>19.445964</td>\n",
       "      <td>6.319847</td>\n",
       "    </tr>\n",
       "    <tr>\n",
       "      <th>10</th>\n",
       "      <td>Urban</td>\n",
       "      <td>Medium</td>\n",
       "      <td>23.867806</td>\n",
       "      <td>8.396900</td>\n",
       "    </tr>\n",
       "  </tbody>\n",
       "</table>\n",
       "</div>"
      ],
      "text/plain": [
       "              city road_traffic_density       mean        std\n",
       "0   Metropolitian                 High   28.145976   7.904494\n",
       "1   Metropolitian                  Jam   31.978193   9.477798\n",
       "2   Metropolitian                  Low   22.259874   6.795802\n",
       "3   Metropolitian               Medium   27.728045   8.309769\n",
       "4      Semi-Urban                 High   50.125000   2.629956\n",
       "5      Semi-Urban                  Jam   49.841270   2.717095\n",
       "6      Semi-Urban               Medium   47.400000   2.011080\n",
       "7           Urban                 High   24.305335   8.494842\n",
       "8           Urban                  Jam   27.989541  10.078679\n",
       "9           Urban                  Low   19.445964   6.319847\n",
       "10          Urban               Medium   23.867806   8.396900"
      ]
     },
     "execution_count": 395,
     "metadata": {},
     "output_type": "execute_result"
    }
   ],
   "source": [
    "df2.groupby([\"city\", \"road_traffic_density\"])[\"time_taken(min)\"].agg([\"mean\", \"std\"]).reset_index()"
   ]
  },
  {
   "cell_type": "markdown",
   "metadata": {},
   "source": [
    "### 6. O tempo médio de entrega durantes os Festivais."
   ]
  },
  {
   "cell_type": "code",
   "execution_count": 428,
   "metadata": {},
   "outputs": [
    {
     "data": {
      "text/plain": [
       "45.51860744297719"
      ]
     },
     "execution_count": 428,
     "metadata": {},
     "output_type": "execute_result"
    }
   ],
   "source": [
    "df2[df2['festival'] == 'Yes']['time_taken(min)'].mean()"
   ]
  }
 ],
 "metadata": {
  "kernelspec": {
   "display_name": "Python 3",
   "language": "python",
   "name": "python3"
  },
  "language_info": {
   "codemirror_mode": {
    "name": "ipython",
    "version": 3
   },
   "file_extension": ".py",
   "mimetype": "text/x-python",
   "name": "python",
   "nbconvert_exporter": "python",
   "pygments_lexer": "ipython3",
   "version": "3.11.7"
  }
 },
 "nbformat": 4,
 "nbformat_minor": 2
}
